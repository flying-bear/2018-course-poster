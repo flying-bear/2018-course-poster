{
  "nbformat": 4,
  "nbformat_minor": 0,
  "metadata": {
    "kernelspec": {
      "name": "python3",
      "display_name": "Python 3"
    },
    "language_info": {
      "codemirror_mode": {
        "name": "ipython",
        "version": 3
      },
      "file_extension": ".py",
      "mimetype": "text/x-python",
      "name": "python",
      "nbconvert_exporter": "python",
      "pygments_lexer": "ipython3",
      "version": "3.7.6"
    },
    "colab": {
      "name": "new_assignment_9.ipynb",
      "provenance": [],
      "collapsed_sections": [],
      "machine_shape": "hm",
      "include_colab_link": true
    },
    "accelerator": "GPU",
    "widgets": {
      "application/vnd.jupyter.widget-state+json": {
        "9cef82b424604a0fb83ba6888e42a3db": {
          "model_module": "@jupyter-widgets/controls",
          "model_name": "HBoxModel",
          "state": {
            "_view_name": "HBoxView",
            "_dom_classes": [],
            "_model_name": "HBoxModel",
            "_view_module": "@jupyter-widgets/controls",
            "_model_module_version": "1.5.0",
            "_view_count": null,
            "_view_module_version": "1.5.0",
            "box_style": "",
            "layout": "IPY_MODEL_a5d6bf14736f4f869c573db8317b0ec1",
            "_model_module": "@jupyter-widgets/controls",
            "children": [
              "IPY_MODEL_25842c72c12a408b9276752528a5f7b4",
              "IPY_MODEL_cc13a4be7eba45bbb6383d71220772d3"
            ]
          }
        },
        "a5d6bf14736f4f869c573db8317b0ec1": {
          "model_module": "@jupyter-widgets/base",
          "model_name": "LayoutModel",
          "state": {
            "_view_name": "LayoutView",
            "grid_template_rows": null,
            "right": null,
            "justify_content": null,
            "_view_module": "@jupyter-widgets/base",
            "overflow": null,
            "_model_module_version": "1.2.0",
            "_view_count": null,
            "flex_flow": null,
            "width": null,
            "min_width": null,
            "border": null,
            "align_items": null,
            "bottom": null,
            "_model_module": "@jupyter-widgets/base",
            "top": null,
            "grid_column": null,
            "overflow_y": null,
            "overflow_x": null,
            "grid_auto_flow": null,
            "grid_area": null,
            "grid_template_columns": null,
            "flex": null,
            "_model_name": "LayoutModel",
            "justify_items": null,
            "grid_row": null,
            "max_height": null,
            "align_content": null,
            "visibility": null,
            "align_self": null,
            "height": null,
            "min_height": null,
            "padding": null,
            "grid_auto_rows": null,
            "grid_gap": null,
            "max_width": null,
            "order": null,
            "_view_module_version": "1.2.0",
            "grid_template_areas": null,
            "object_position": null,
            "object_fit": null,
            "grid_auto_columns": null,
            "margin": null,
            "display": null,
            "left": null
          }
        },
        "25842c72c12a408b9276752528a5f7b4": {
          "model_module": "@jupyter-widgets/controls",
          "model_name": "IntProgressModel",
          "state": {
            "_view_name": "ProgressView",
            "style": "IPY_MODEL_f1061f49ab8a43d09ac9edf313d85cec",
            "_dom_classes": [],
            "description": "Epoch 1: 100%",
            "_model_name": "IntProgressModel",
            "bar_style": "success",
            "max": 717,
            "_view_module": "@jupyter-widgets/controls",
            "_model_module_version": "1.5.0",
            "value": 717,
            "_view_count": null,
            "_view_module_version": "1.5.0",
            "orientation": "horizontal",
            "min": 0,
            "description_tooltip": null,
            "_model_module": "@jupyter-widgets/controls",
            "layout": "IPY_MODEL_990341f6762d473cbd86357a0cf451d9"
          }
        },
        "cc13a4be7eba45bbb6383d71220772d3": {
          "model_module": "@jupyter-widgets/controls",
          "model_name": "HTMLModel",
          "state": {
            "_view_name": "HTMLView",
            "style": "IPY_MODEL_39b6a38e08fa4d19b49c7436bea801e0",
            "_dom_classes": [],
            "description": "",
            "_model_name": "HTMLModel",
            "placeholder": "​",
            "_view_module": "@jupyter-widgets/controls",
            "_model_module_version": "1.5.0",
            "value": " 717/717 [03:08&lt;00:00,  3.80it/s, loss=4.21e+7]",
            "_view_count": null,
            "_view_module_version": "1.5.0",
            "description_tooltip": null,
            "_model_module": "@jupyter-widgets/controls",
            "layout": "IPY_MODEL_f8c07a8c55d846c0829ecad110374687"
          }
        },
        "f1061f49ab8a43d09ac9edf313d85cec": {
          "model_module": "@jupyter-widgets/controls",
          "model_name": "ProgressStyleModel",
          "state": {
            "_view_name": "StyleView",
            "_model_name": "ProgressStyleModel",
            "description_width": "initial",
            "_view_module": "@jupyter-widgets/base",
            "_model_module_version": "1.5.0",
            "_view_count": null,
            "_view_module_version": "1.2.0",
            "bar_color": null,
            "_model_module": "@jupyter-widgets/controls"
          }
        },
        "990341f6762d473cbd86357a0cf451d9": {
          "model_module": "@jupyter-widgets/base",
          "model_name": "LayoutModel",
          "state": {
            "_view_name": "LayoutView",
            "grid_template_rows": null,
            "right": null,
            "justify_content": null,
            "_view_module": "@jupyter-widgets/base",
            "overflow": null,
            "_model_module_version": "1.2.0",
            "_view_count": null,
            "flex_flow": null,
            "width": null,
            "min_width": null,
            "border": null,
            "align_items": null,
            "bottom": null,
            "_model_module": "@jupyter-widgets/base",
            "top": null,
            "grid_column": null,
            "overflow_y": null,
            "overflow_x": null,
            "grid_auto_flow": null,
            "grid_area": null,
            "grid_template_columns": null,
            "flex": null,
            "_model_name": "LayoutModel",
            "justify_items": null,
            "grid_row": null,
            "max_height": null,
            "align_content": null,
            "visibility": null,
            "align_self": null,
            "height": null,
            "min_height": null,
            "padding": null,
            "grid_auto_rows": null,
            "grid_gap": null,
            "max_width": null,
            "order": null,
            "_view_module_version": "1.2.0",
            "grid_template_areas": null,
            "object_position": null,
            "object_fit": null,
            "grid_auto_columns": null,
            "margin": null,
            "display": null,
            "left": null
          }
        },
        "39b6a38e08fa4d19b49c7436bea801e0": {
          "model_module": "@jupyter-widgets/controls",
          "model_name": "DescriptionStyleModel",
          "state": {
            "_view_name": "StyleView",
            "_model_name": "DescriptionStyleModel",
            "description_width": "",
            "_view_module": "@jupyter-widgets/base",
            "_model_module_version": "1.5.0",
            "_view_count": null,
            "_view_module_version": "1.2.0",
            "_model_module": "@jupyter-widgets/controls"
          }
        },
        "f8c07a8c55d846c0829ecad110374687": {
          "model_module": "@jupyter-widgets/base",
          "model_name": "LayoutModel",
          "state": {
            "_view_name": "LayoutView",
            "grid_template_rows": null,
            "right": null,
            "justify_content": null,
            "_view_module": "@jupyter-widgets/base",
            "overflow": null,
            "_model_module_version": "1.2.0",
            "_view_count": null,
            "flex_flow": null,
            "width": null,
            "min_width": null,
            "border": null,
            "align_items": null,
            "bottom": null,
            "_model_module": "@jupyter-widgets/base",
            "top": null,
            "grid_column": null,
            "overflow_y": null,
            "overflow_x": null,
            "grid_auto_flow": null,
            "grid_area": null,
            "grid_template_columns": null,
            "flex": null,
            "_model_name": "LayoutModel",
            "justify_items": null,
            "grid_row": null,
            "max_height": null,
            "align_content": null,
            "visibility": null,
            "align_self": null,
            "height": null,
            "min_height": null,
            "padding": null,
            "grid_auto_rows": null,
            "grid_gap": null,
            "max_width": null,
            "order": null,
            "_view_module_version": "1.2.0",
            "grid_template_areas": null,
            "object_position": null,
            "object_fit": null,
            "grid_auto_columns": null,
            "margin": null,
            "display": null,
            "left": null
          }
        },
        "b3dbab9f7b454b30bf233ad685d69d53": {
          "model_module": "@jupyter-widgets/controls",
          "model_name": "HBoxModel",
          "state": {
            "_view_name": "HBoxView",
            "_dom_classes": [],
            "_model_name": "HBoxModel",
            "_view_module": "@jupyter-widgets/controls",
            "_model_module_version": "1.5.0",
            "_view_count": null,
            "_view_module_version": "1.5.0",
            "box_style": "",
            "layout": "IPY_MODEL_50721f6309af4574a6eb8d0e39f253c1",
            "_model_module": "@jupyter-widgets/controls",
            "children": [
              "IPY_MODEL_2ee00dcfb1944a3dbc1fb113d4bc5210",
              "IPY_MODEL_bbba39398cff4c7e865263e0ac49b20a"
            ]
          }
        },
        "50721f6309af4574a6eb8d0e39f253c1": {
          "model_module": "@jupyter-widgets/base",
          "model_name": "LayoutModel",
          "state": {
            "_view_name": "LayoutView",
            "grid_template_rows": null,
            "right": null,
            "justify_content": null,
            "_view_module": "@jupyter-widgets/base",
            "overflow": null,
            "_model_module_version": "1.2.0",
            "_view_count": null,
            "flex_flow": null,
            "width": null,
            "min_width": null,
            "border": null,
            "align_items": null,
            "bottom": null,
            "_model_module": "@jupyter-widgets/base",
            "top": null,
            "grid_column": null,
            "overflow_y": null,
            "overflow_x": null,
            "grid_auto_flow": null,
            "grid_area": null,
            "grid_template_columns": null,
            "flex": null,
            "_model_name": "LayoutModel",
            "justify_items": null,
            "grid_row": null,
            "max_height": null,
            "align_content": null,
            "visibility": null,
            "align_self": null,
            "height": null,
            "min_height": null,
            "padding": null,
            "grid_auto_rows": null,
            "grid_gap": null,
            "max_width": null,
            "order": null,
            "_view_module_version": "1.2.0",
            "grid_template_areas": null,
            "object_position": null,
            "object_fit": null,
            "grid_auto_columns": null,
            "margin": null,
            "display": null,
            "left": null
          }
        },
        "2ee00dcfb1944a3dbc1fb113d4bc5210": {
          "model_module": "@jupyter-widgets/controls",
          "model_name": "IntProgressModel",
          "state": {
            "_view_name": "ProgressView",
            "style": "IPY_MODEL_8172e352ea8e4fff80e5b65b8b45f799",
            "_dom_classes": [],
            "description": "Epoch 2:  17%",
            "_model_name": "IntProgressModel",
            "bar_style": "",
            "max": 717,
            "_view_module": "@jupyter-widgets/controls",
            "_model_module_version": "1.5.0",
            "value": 122,
            "_view_count": null,
            "_view_module_version": "1.5.0",
            "orientation": "horizontal",
            "min": 0,
            "description_tooltip": null,
            "_model_module": "@jupyter-widgets/controls",
            "layout": "IPY_MODEL_6ebac5e4de0e406d9b18d2ecf05da5e4"
          }
        },
        "bbba39398cff4c7e865263e0ac49b20a": {
          "model_module": "@jupyter-widgets/controls",
          "model_name": "HTMLModel",
          "state": {
            "_view_name": "HTMLView",
            "style": "IPY_MODEL_01650418b7bb47dc98ab9d8b1e251308",
            "_dom_classes": [],
            "description": "",
            "_model_name": "HTMLModel",
            "placeholder": "​",
            "_view_module": "@jupyter-widgets/controls",
            "_model_module_version": "1.5.0",
            "value": " 122/717 [00:32&lt;02:34,  3.84it/s, loss=9.61e+7]",
            "_view_count": null,
            "_view_module_version": "1.5.0",
            "description_tooltip": null,
            "_model_module": "@jupyter-widgets/controls",
            "layout": "IPY_MODEL_83a518aca99e4acda54b856fd70f9384"
          }
        },
        "8172e352ea8e4fff80e5b65b8b45f799": {
          "model_module": "@jupyter-widgets/controls",
          "model_name": "ProgressStyleModel",
          "state": {
            "_view_name": "StyleView",
            "_model_name": "ProgressStyleModel",
            "description_width": "initial",
            "_view_module": "@jupyter-widgets/base",
            "_model_module_version": "1.5.0",
            "_view_count": null,
            "_view_module_version": "1.2.0",
            "bar_color": null,
            "_model_module": "@jupyter-widgets/controls"
          }
        },
        "6ebac5e4de0e406d9b18d2ecf05da5e4": {
          "model_module": "@jupyter-widgets/base",
          "model_name": "LayoutModel",
          "state": {
            "_view_name": "LayoutView",
            "grid_template_rows": null,
            "right": null,
            "justify_content": null,
            "_view_module": "@jupyter-widgets/base",
            "overflow": null,
            "_model_module_version": "1.2.0",
            "_view_count": null,
            "flex_flow": null,
            "width": null,
            "min_width": null,
            "border": null,
            "align_items": null,
            "bottom": null,
            "_model_module": "@jupyter-widgets/base",
            "top": null,
            "grid_column": null,
            "overflow_y": null,
            "overflow_x": null,
            "grid_auto_flow": null,
            "grid_area": null,
            "grid_template_columns": null,
            "flex": null,
            "_model_name": "LayoutModel",
            "justify_items": null,
            "grid_row": null,
            "max_height": null,
            "align_content": null,
            "visibility": null,
            "align_self": null,
            "height": null,
            "min_height": null,
            "padding": null,
            "grid_auto_rows": null,
            "grid_gap": null,
            "max_width": null,
            "order": null,
            "_view_module_version": "1.2.0",
            "grid_template_areas": null,
            "object_position": null,
            "object_fit": null,
            "grid_auto_columns": null,
            "margin": null,
            "display": null,
            "left": null
          }
        },
        "01650418b7bb47dc98ab9d8b1e251308": {
          "model_module": "@jupyter-widgets/controls",
          "model_name": "DescriptionStyleModel",
          "state": {
            "_view_name": "StyleView",
            "_model_name": "DescriptionStyleModel",
            "description_width": "",
            "_view_module": "@jupyter-widgets/base",
            "_model_module_version": "1.5.0",
            "_view_count": null,
            "_view_module_version": "1.2.0",
            "_model_module": "@jupyter-widgets/controls"
          }
        },
        "83a518aca99e4acda54b856fd70f9384": {
          "model_module": "@jupyter-widgets/base",
          "model_name": "LayoutModel",
          "state": {
            "_view_name": "LayoutView",
            "grid_template_rows": null,
            "right": null,
            "justify_content": null,
            "_view_module": "@jupyter-widgets/base",
            "overflow": null,
            "_model_module_version": "1.2.0",
            "_view_count": null,
            "flex_flow": null,
            "width": null,
            "min_width": null,
            "border": null,
            "align_items": null,
            "bottom": null,
            "_model_module": "@jupyter-widgets/base",
            "top": null,
            "grid_column": null,
            "overflow_y": null,
            "overflow_x": null,
            "grid_auto_flow": null,
            "grid_area": null,
            "grid_template_columns": null,
            "flex": null,
            "_model_name": "LayoutModel",
            "justify_items": null,
            "grid_row": null,
            "max_height": null,
            "align_content": null,
            "visibility": null,
            "align_self": null,
            "height": null,
            "min_height": null,
            "padding": null,
            "grid_auto_rows": null,
            "grid_gap": null,
            "max_width": null,
            "order": null,
            "_view_module_version": "1.2.0",
            "grid_template_areas": null,
            "object_position": null,
            "object_fit": null,
            "grid_auto_columns": null,
            "margin": null,
            "display": null,
            "left": null
          }
        }
      }
    }
  },
  "cells": [
    {
      "cell_type": "markdown",
      "metadata": {
        "id": "view-in-github",
        "colab_type": "text"
      },
      "source": [
        "<a href=\"https://colab.research.google.com/github/flying-bear/2018-course-poster/blob/master/assignment_9.ipynb\" target=\"_parent\"><img src=\"https://colab.research.google.com/assets/colab-badge.svg\" alt=\"Open In Colab\"/></a>"
      ]
    },
    {
      "cell_type": "markdown",
      "metadata": {
        "id": "IuMyevR2w0Fa",
        "colab_type": "text"
      },
      "source": [
        "# Assignment 9\n",
        "\n",
        "Use data from `https://github.com/thedenaas/hse_seminars/tree/master/2018/seminar_13/data.zip`  \n",
        "Implement model in pytorch from [\"An Unsupervised Neural Attention Model for Aspect Extraction, He et al, 2017\"](https://www.comp.nus.edu.sg/~leews/publications/acl17.pdf), also desribed in seminar notes.  \n",
        "\n",
        "\n",
        "You can use sentence embeddings with attention **[7 points]**:  \n",
        "$z_s = \\sum_{i}^n \\alpha_i e_{w_i}, z_s \\in R^d$ sentence embedding  \n",
        "$\\alpha_i = softmax(d_i)$  attention weight for i-th token  \n",
        "$d_i = e_{w_i}^T M y_s$ attention with trainable matrix $M \\in R^{dxd}$  \n",
        "$y_s = \\frac 1 n \\sum_{i=1}^n e_{w_i}, y_s \\in R^d$ sentence context  \n",
        "$e_{w_i} \\in R^d$, token embedding of size d  \n",
        "$n$ - number of tokens in a sentence  \n",
        "\n",
        "**Or** just use sentence embedding as an average over word embeddings **[5 points]**:  \n",
        "$z_s = \\frac 1 n \\sum_{i=1}^n e_{w_i}, z_s \\in R^d$ sentence embedding  \n",
        "$e_{w_i} \\in R^d$, token embedding of size d  \n",
        "$n$ - number of tokens in a sentence  \n",
        " \n",
        "$p_t = softmax(W z_s + b), p_t \\in R^K$ topic weights for sentence $s$, with trainable matrix $W \\in R^{dxK}$ and bias vector $b \\in R^K$  \n",
        "$r_s = T^T p_t, r_s \\in R^d$ reconstructed sentence embedding as a weighted sum of topic embeddings   \n",
        "$T \\in R^{Kxd}$ trainable matrix of topic embeddings, K=number of topics\n",
        "\n",
        "\n",
        "**Training objective**:\n",
        "$$ J = \\sum_{s \\in D} \\sum_{i=1}^m max(0, 1-r_s^T z_s + r_s^T n_i) + \\lambda ||T^T T - I ||^2_F  $$\n",
        "where   \n",
        "$m$ random sentences are sampled as negative examples from dataset $D$ for each sentence $s$  \n",
        "$n_i = \\frac 1 n \\sum_{i=j}^n e_{w_j}$ average of word embeddings in the i-th sentence  \n",
        "$||T^T T - I ||_F$ regularizer, that enforces matrix $T$ to be orthogonal  \n",
        "$||A||^2_F = \\sum_{i=1}^N\\sum_{j=1}^M a_{ij}^2, A \\in R^{NxM}$ Frobenius norm\n",
        "\n",
        "\n",
        "**[3 points]** Compute topic coherence for at least for 3 different number of topics. Use 10 nearest words for each topic. It means you have to train one model for each number of topics. You can use code from seminar notes with word2vec similarity scores."
      ]
    },
    {
      "cell_type": "markdown",
      "metadata": {
        "id": "x7Xhf7Ty0lOd",
        "colab_type": "text"
      },
      "source": [
        "## Get data"
      ]
    },
    {
      "cell_type": "code",
      "metadata": {
        "id": "czt2JCSVw0Fe",
        "colab_type": "code",
        "outputId": "1858abd3-2518-4e52-9e3c-78c39f91ee3f",
        "colab": {
          "base_uri": "https://localhost:8080/",
          "height": 353
        }
      },
      "source": [
        "!wget -O data.zip https://github.com/thedenaas/hse_seminars/blob/master/2018/seminar_13/data.zip?raw=true "
      ],
      "execution_count": 3,
      "outputs": [
        {
          "output_type": "stream",
          "text": [
            "--2020-03-20 13:40:54--  https://github.com/thedenaas/hse_seminars/blob/master/2018/seminar_13/data.zip?raw=true\n",
            "Resolving github.com (github.com)... 140.82.113.4\n",
            "Connecting to github.com (github.com)|140.82.113.4|:443... connected.\n",
            "HTTP request sent, awaiting response... 302 Found\n",
            "Location: https://github.com/thedenaas/hse_seminars/raw/master/2018/seminar_13/data.zip [following]\n",
            "--2020-03-20 13:40:54--  https://github.com/thedenaas/hse_seminars/raw/master/2018/seminar_13/data.zip\n",
            "Reusing existing connection to github.com:443.\n",
            "HTTP request sent, awaiting response... 302 Found\n",
            "Location: https://raw.githubusercontent.com/thedenaas/hse_seminars/master/2018/seminar_13/data.zip [following]\n",
            "--2020-03-20 13:40:55--  https://raw.githubusercontent.com/thedenaas/hse_seminars/master/2018/seminar_13/data.zip\n",
            "Resolving raw.githubusercontent.com (raw.githubusercontent.com)... 151.101.0.133, 151.101.64.133, 151.101.128.133, ...\n",
            "Connecting to raw.githubusercontent.com (raw.githubusercontent.com)|151.101.0.133|:443... connected.\n",
            "HTTP request sent, awaiting response... 200 OK\n",
            "Length: 9927168 (9.5M) [application/zip]\n",
            "Saving to: ‘data.zip’\n",
            "\n",
            "data.zip            100%[===================>]   9.47M  --.-KB/s    in 0.1s    \n",
            "\n",
            "2020-03-20 13:40:55 (71.0 MB/s) - ‘data.zip’ saved [9927168/9927168]\n",
            "\n"
          ],
          "name": "stdout"
        }
      ]
    },
    {
      "cell_type": "code",
      "metadata": {
        "id": "aVc2yVTixVTG",
        "colab_type": "code",
        "outputId": "1332eff2-16d1-40a5-fe8a-bfe392e8e204",
        "colab": {
          "base_uri": "https://localhost:8080/",
          "height": 67
        }
      },
      "source": [
        "!unzip data.zip"
      ],
      "execution_count": 4,
      "outputs": [
        {
          "output_type": "stream",
          "text": [
            "Archive:  data.zip\n",
            "  inflating: data.txt                \n",
            "  inflating: stopwords.txt           \n"
          ],
          "name": "stdout"
        }
      ]
    },
    {
      "cell_type": "markdown",
      "metadata": {
        "id": "UNs1xH391CKM",
        "colab_type": "text"
      },
      "source": [
        "## video memeory?\n"
      ]
    },
    {
      "cell_type": "code",
      "metadata": {
        "id": "puoth8LzC36v",
        "colab_type": "code",
        "outputId": "52386cf0-d13e-403e-85b7-a616715e9a8a",
        "colab": {
          "base_uri": "https://localhost:8080/",
          "height": 302
        }
      },
      "source": [
        "!nvidia-smi"
      ],
      "execution_count": 5,
      "outputs": [
        {
          "output_type": "stream",
          "text": [
            "Fri Mar 20 13:41:02 2020       \n",
            "+-----------------------------------------------------------------------------+\n",
            "| NVIDIA-SMI 440.64.00    Driver Version: 418.67       CUDA Version: 10.1     |\n",
            "|-------------------------------+----------------------+----------------------+\n",
            "| GPU  Name        Persistence-M| Bus-Id        Disp.A | Volatile Uncorr. ECC |\n",
            "| Fan  Temp  Perf  Pwr:Usage/Cap|         Memory-Usage | GPU-Util  Compute M. |\n",
            "|===============================+======================+======================|\n",
            "|   0  Tesla K80           Off  | 00000000:00:04.0 Off |                    0 |\n",
            "| N/A   51C    P8    31W / 149W |      0MiB / 11441MiB |      0%      Default |\n",
            "+-------------------------------+----------------------+----------------------+\n",
            "                                                                               \n",
            "+-----------------------------------------------------------------------------+\n",
            "| Processes:                                                       GPU Memory |\n",
            "|  GPU       PID   Type   Process name                             Usage      |\n",
            "|=============================================================================|\n",
            "|  No running processes found                                                 |\n",
            "+-----------------------------------------------------------------------------+\n"
          ],
          "name": "stdout"
        }
      ]
    },
    {
      "cell_type": "markdown",
      "metadata": {
        "id": "QEbM-mkh1I-i",
        "colab_type": "text"
      },
      "source": [
        "## Imports"
      ]
    },
    {
      "cell_type": "code",
      "metadata": {
        "id": "dRABeksSAco0",
        "colab_type": "code",
        "colab": {}
      },
      "source": [
        "import gensim\n",
        "import gensim.downloader as api\n",
        "import matplotlib.pyplot as plt\n",
        "import numpy as np\n",
        "import nltk\n",
        "import pandas as pd\n",
        "\n",
        "import torch\n",
        "import torch.nn as nn\n",
        "import torch.nn.functional as F\n",
        "\n",
        "from torch.utils.data import DataLoader, TensorDataset\n",
        "from torchtext.data import Field, TabularDataset, Iterator\n",
        "\n",
        "from scipy.ndimage.filters import gaussian_filter1d\n",
        "from tqdm import tqdm, tqdm_notebook"
      ],
      "execution_count": 0,
      "outputs": []
    },
    {
      "cell_type": "code",
      "metadata": {
        "id": "vocSo75u0i0S",
        "colab_type": "code",
        "outputId": "8e64c43d-717d-4498-ff16-44fa0048da81",
        "colab": {
          "base_uri": "https://localhost:8080/",
          "height": 67
        }
      },
      "source": [
        "nltk.download('punkt')"
      ],
      "execution_count": 7,
      "outputs": [
        {
          "output_type": "stream",
          "text": [
            "[nltk_data] Downloading package punkt to /root/nltk_data...\n",
            "[nltk_data]   Unzipping tokenizers/punkt.zip.\n"
          ],
          "name": "stdout"
        },
        {
          "output_type": "execute_result",
          "data": {
            "text/plain": [
              "True"
            ]
          },
          "metadata": {
            "tags": []
          },
          "execution_count": 7
        }
      ]
    },
    {
      "cell_type": "code",
      "metadata": {
        "id": "gA-Afo7HI1PI",
        "colab_type": "code",
        "colab": {}
      },
      "source": [
        "batch_size = 256\n",
        "random_state = 42\n",
        "num_neg_samples = 5"
      ],
      "execution_count": 0,
      "outputs": []
    },
    {
      "cell_type": "code",
      "metadata": {
        "id": "i5-J9QhXDgi8",
        "colab_type": "code",
        "colab": {}
      },
      "source": [
        "DEVICE = torch.device('cuda') if torch.cuda.is_available() else tt.device('cpu')"
      ],
      "execution_count": 0,
      "outputs": []
    },
    {
      "cell_type": "markdown",
      "metadata": {
        "id": "Yc0HJ1xx1Fqy",
        "colab_type": "text"
      },
      "source": [
        "## Data"
      ]
    },
    {
      "cell_type": "code",
      "metadata": {
        "id": "ZdHPB3x4yhkR",
        "colab_type": "code",
        "outputId": "658f1c27-67e9-4311-8adf-e567bb3b8e88",
        "colab": {
          "base_uri": "https://localhost:8080/",
          "height": 34
        }
      },
      "source": [
        "with open('data.txt', 'r') as f:\n",
        "  text = f.read()\n",
        "print(text[:100])"
      ],
      "execution_count": 10,
      "outputs": [
        {
          "output_type": "stream",
          "text": [
            "Barclays' defiance of US fines has merit Barclays disgraced itself in many ways during the pre-finan\n"
          ],
          "name": "stdout"
        }
      ]
    },
    {
      "cell_type": "code",
      "metadata": {
        "id": "IxQ00GRsyyAv",
        "colab_type": "code",
        "outputId": "62ec014e-5773-4cef-ab20-5cda044437ac",
        "colab": {
          "base_uri": "https://localhost:8080/",
          "height": 34
        }
      },
      "source": [
        "len(text.split('/n'))"
      ],
      "execution_count": 11,
      "outputs": [
        {
          "output_type": "execute_result",
          "data": {
            "text/plain": [
              "13"
            ]
          },
          "metadata": {
            "tags": []
          },
          "execution_count": 11
        }
      ]
    },
    {
      "cell_type": "code",
      "metadata": {
        "id": "Oh_NNHgfxo5Y",
        "colab_type": "code",
        "colab": {}
      },
      "source": [
        "custom_stop_words = []\n",
        "with open( \"stopwords.txt\", \"r\" ) as f:\n",
        "    for line in f.readlines():\n",
        "        custom_stop_words.append( line.strip().lower())"
      ],
      "execution_count": 0,
      "outputs": []
    },
    {
      "cell_type": "markdown",
      "metadata": {
        "id": "GkHPlvzD1Vkw",
        "colab_type": "text"
      },
      "source": [
        "### Sentences"
      ]
    },
    {
      "cell_type": "code",
      "metadata": {
        "id": "zI4AFl_N2Xaj",
        "colab_type": "code",
        "colab": {}
      },
      "source": [
        "def sent_tokenize(text):\n",
        "  return nltk.tokenize.sent_tokenize(text)\n",
        "\n",
        "def tokenize(sent):\n",
        "  return nltk.tokenize.word_tokenize(sent)"
      ],
      "execution_count": 0,
      "outputs": []
    },
    {
      "cell_type": "code",
      "metadata": {
        "id": "LlVvZ5Tp-aMI",
        "colab_type": "code",
        "outputId": "4cf90cd2-30c7-42da-f0ae-851256ada462",
        "colab": {
          "base_uri": "https://localhost:8080/",
          "height": 34
        }
      },
      "source": [
        "sent_tokenize('ads kjd.\\n hadkjahd! jhwahjw! a the I')"
      ],
      "execution_count": 14,
      "outputs": [
        {
          "output_type": "execute_result",
          "data": {
            "text/plain": [
              "['ads kjd.', 'hadkjahd!', 'jhwahjw!', 'a the I']"
            ]
          },
          "metadata": {
            "tags": []
          },
          "execution_count": 14
        }
      ]
    },
    {
      "cell_type": "code",
      "metadata": {
        "id": "y5Ft7V9QeUhK",
        "colab_type": "code",
        "colab": {
          "base_uri": "https://localhost:8080/",
          "height": 34
        },
        "outputId": "7cc73855-15d5-438a-8a21-d2450431ae78"
      },
      "source": [
        "tokenize('jkahdak akwjhadkjhd jhjh hh')"
      ],
      "execution_count": 15,
      "outputs": [
        {
          "output_type": "execute_result",
          "data": {
            "text/plain": [
              "['jkahdak', 'akwjhadkjhd', 'jhjh', 'hh']"
            ]
          },
          "metadata": {
            "tags": []
          },
          "execution_count": 15
        }
      ]
    },
    {
      "cell_type": "markdown",
      "metadata": {
        "id": "V1mKlj4sFdPs",
        "colab_type": "text"
      },
      "source": [
        "### add negative samples\n"
      ]
    },
    {
      "cell_type": "code",
      "metadata": {
        "id": "Jxr2-fhJZpxF",
        "colab_type": "code",
        "colab": {}
      },
      "source": [
        "df = pd.DataFrame()\n",
        "df['pos'] = sent_tokenize(text)"
      ],
      "execution_count": 0,
      "outputs": []
    },
    {
      "cell_type": "code",
      "metadata": {
        "id": "NljMpHhpbp2f",
        "colab_type": "code",
        "colab": {
          "base_uri": "https://localhost:8080/",
          "height": 195
        },
        "outputId": "1ad5cf43-7358-4eb5-8d78-6422b5bc7fde"
      },
      "source": [
        "df.tail()"
      ],
      "execution_count": 17,
      "outputs": [
        {
          "output_type": "execute_result",
          "data": {
            "text/html": [
              "<div>\n",
              "<style scoped>\n",
              "    .dataframe tbody tr th:only-of-type {\n",
              "        vertical-align: middle;\n",
              "    }\n",
              "\n",
              "    .dataframe tbody tr th {\n",
              "        vertical-align: top;\n",
              "    }\n",
              "\n",
              "    .dataframe thead th {\n",
              "        text-align: right;\n",
              "    }\n",
              "</style>\n",
              "<table border=\"1\" class=\"dataframe\">\n",
              "  <thead>\n",
              "    <tr style=\"text-align: right;\">\n",
              "      <th></th>\n",
              "      <th>pos</th>\n",
              "    </tr>\n",
              "  </thead>\n",
              "  <tbody>\n",
              "    <tr>\n",
              "      <th>183395</th>\n",
              "      <td>It feels as though Stone realised that some of...</td>\n",
              "    </tr>\n",
              "    <tr>\n",
              "      <th>183396</th>\n",
              "      <td>There are some fun elements, many involving Rh...</td>\n",
              "    </tr>\n",
              "    <tr>\n",
              "      <th>183397</th>\n",
              "      <td>I particularly enjoyed a scene in which O’Bria...</td>\n",
              "    </tr>\n",
              "    <tr>\n",
              "      <th>183398</th>\n",
              "      <td>His carnivorous snarl fills the immense screen...</td>\n",
              "    </tr>\n",
              "    <tr>\n",
              "      <th>183399</th>\n",
              "      <td>There’s a playful visual flair to this moment ...</td>\n",
              "    </tr>\n",
              "  </tbody>\n",
              "</table>\n",
              "</div>"
            ],
            "text/plain": [
              "                                                      pos\n",
              "183395  It feels as though Stone realised that some of...\n",
              "183396  There are some fun elements, many involving Rh...\n",
              "183397  I particularly enjoyed a scene in which O’Bria...\n",
              "183398  His carnivorous snarl fills the immense screen...\n",
              "183399  There’s a playful visual flair to this moment ..."
            ]
          },
          "metadata": {
            "tags": []
          },
          "execution_count": 17
        }
      ]
    },
    {
      "cell_type": "code",
      "metadata": {
        "id": "LNSOBR6SLgWR",
        "colab_type": "code",
        "colab": {}
      },
      "source": [
        "def add_negative(df):\n",
        "  neg_id = np.random.choice(len(df))\n",
        "  return df.iloc[neg_id, 0]"
      ],
      "execution_count": 0,
      "outputs": []
    },
    {
      "cell_type": "code",
      "metadata": {
        "id": "hGD371YFcaDn",
        "colab_type": "code",
        "colab": {}
      },
      "source": [
        "for i in range(num_neg_samples):\n",
        "  df[f'neg{i}'] = df['pos'].apply(lambda x: add_negative(df))"
      ],
      "execution_count": 0,
      "outputs": []
    },
    {
      "cell_type": "code",
      "metadata": {
        "id": "qWURVqRjdPyr",
        "colab_type": "code",
        "colab": {
          "base_uri": "https://localhost:8080/",
          "height": 279
        },
        "outputId": "95d47586-e61b-49e1-8cd6-aedba479368e"
      },
      "source": [
        "df.tail()"
      ],
      "execution_count": 20,
      "outputs": [
        {
          "output_type": "execute_result",
          "data": {
            "text/html": [
              "<div>\n",
              "<style scoped>\n",
              "    .dataframe tbody tr th:only-of-type {\n",
              "        vertical-align: middle;\n",
              "    }\n",
              "\n",
              "    .dataframe tbody tr th {\n",
              "        vertical-align: top;\n",
              "    }\n",
              "\n",
              "    .dataframe thead th {\n",
              "        text-align: right;\n",
              "    }\n",
              "</style>\n",
              "<table border=\"1\" class=\"dataframe\">\n",
              "  <thead>\n",
              "    <tr style=\"text-align: right;\">\n",
              "      <th></th>\n",
              "      <th>pos</th>\n",
              "      <th>neg0</th>\n",
              "      <th>neg1</th>\n",
              "      <th>neg2</th>\n",
              "      <th>neg3</th>\n",
              "      <th>neg4</th>\n",
              "    </tr>\n",
              "  </thead>\n",
              "  <tbody>\n",
              "    <tr>\n",
              "      <th>183395</th>\n",
              "      <td>It feels as though Stone realised that some of...</td>\n",
              "      <td>The bank said in a long list of legal disclosu...</td>\n",
              "      <td>Get the latest news with Barry Glendenning.</td>\n",
              "      <td>I was a journalist with an addiction to social...</td>\n",
              "      <td>The video, which ends with Drėgvaitė saying “f...</td>\n",
              "      <td>How much difference has she made?</td>\n",
              "    </tr>\n",
              "    <tr>\n",
              "      <th>183396</th>\n",
              "      <td>There are some fun elements, many involving Rh...</td>\n",
              "      <td>But it feels, too, like the end of a broader m...</td>\n",
              "      <td>“They told me I needed to wait my turn.</td>\n",
              "      <td>“Now, Carlos Slim comes from Mexico.</td>\n",
              "      <td>In Steven Spielberg’s cold war thriller, he pl...</td>\n",
              "      <td>Dutch people feel big decisions are being made...</td>\n",
              "    </tr>\n",
              "    <tr>\n",
              "      <th>183397</th>\n",
              "      <td>I particularly enjoyed a scene in which O’Bria...</td>\n",
              "      <td>It’s way more optimistic than most other estim...</td>\n",
              "      <td>Over the years, they would create their own st...</td>\n",
              "      <td>But it’s important to try to get a handle on w...</td>\n",
              "      <td>We used to be called ironic all the time.</td>\n",
              "      <td>“This is not the time to fear the European Uni...</td>\n",
              "    </tr>\n",
              "    <tr>\n",
              "      <th>183398</th>\n",
              "      <td>His carnivorous snarl fills the immense screen...</td>\n",
              "      <td>Godfrey said that around 400-500 new homes a y...</td>\n",
              "      <td>In the year of her temporary retirement, 1969,...</td>\n",
              "      <td>Become a member An impassioned Joe Biden calle...</td>\n",
              "      <td>The female sex hormones oestrogen and progeste...</td>\n",
              "      <td>The firm said: “This suggests people are nervo...</td>\n",
              "    </tr>\n",
              "    <tr>\n",
              "      <th>183399</th>\n",
              "      <td>There’s a playful visual flair to this moment ...</td>\n",
              "      <td>The lightshow (!)</td>\n",
              "      <td>25 min Salomón Rondón scored three headers fro...</td>\n",
              "      <td>“It’s a rigged election.</td>\n",
              "      <td>Speaking to The Wrap, Taylor Sheridan said: “T...</td>\n",
              "      <td>“We have not, to date, specifically advised th...</td>\n",
              "    </tr>\n",
              "  </tbody>\n",
              "</table>\n",
              "</div>"
            ],
            "text/plain": [
              "                                                      pos  ...                                               neg4\n",
              "183395  It feels as though Stone realised that some of...  ...                  How much difference has she made?\n",
              "183396  There are some fun elements, many involving Rh...  ...  Dutch people feel big decisions are being made...\n",
              "183397  I particularly enjoyed a scene in which O’Bria...  ...  “This is not the time to fear the European Uni...\n",
              "183398  His carnivorous snarl fills the immense screen...  ...  The firm said: “This suggests people are nervo...\n",
              "183399  There’s a playful visual flair to this moment ...  ...  “We have not, to date, specifically advised th...\n",
              "\n",
              "[5 rows x 6 columns]"
            ]
          },
          "metadata": {
            "tags": []
          },
          "execution_count": 20
        }
      ]
    },
    {
      "cell_type": "code",
      "metadata": {
        "id": "olbrxIToduax",
        "colab_type": "code",
        "colab": {}
      },
      "source": [
        "df.to_csv('text.csv', index=False)"
      ],
      "execution_count": 0,
      "outputs": []
    },
    {
      "cell_type": "markdown",
      "metadata": {
        "id": "0h0OTeke1Nd1",
        "colab_type": "text"
      },
      "source": [
        "### Batch"
      ]
    },
    {
      "cell_type": "code",
      "metadata": {
        "id": "wAKc5GNiYVbl",
        "colab_type": "code",
        "colab": {}
      },
      "source": [
        "TEXT = Field(include_lengths=False, \n",
        "             batch_first=True, \n",
        "             tokenize=tokenize,\n",
        "             lower=True,\n",
        "             stop_words=custom_stop_words)\n",
        "\n",
        "datafields = [('pos',TEXT), *[(f'neg{i}', TEXT) for i in range(num_neg_samples)]]"
      ],
      "execution_count": 0,
      "outputs": []
    },
    {
      "cell_type": "code",
      "metadata": {
        "id": "xnHbWGJBgbcn",
        "colab_type": "code",
        "colab": {}
      },
      "source": [
        "trn = TabularDataset(path=\"text.csv\",\n",
        "                     format='csv',\n",
        "                     skip_header=True, # if your csv header has a header, make sure to pass this to ensure it doesn't get proceesed as data!\n",
        "                     fields=datafields)"
      ],
      "execution_count": 0,
      "outputs": []
    },
    {
      "cell_type": "code",
      "metadata": {
        "id": "O_lSBb1kfWoD",
        "colab_type": "code",
        "colab": {}
      },
      "source": [
        "TEXT.build_vocab(trn)"
      ],
      "execution_count": 0,
      "outputs": []
    },
    {
      "cell_type": "code",
      "metadata": {
        "id": "0NuFSL9TfxEr",
        "colab_type": "code",
        "colab": {}
      },
      "source": [
        "vocab_size = len(TEXT.vocab.itos) "
      ],
      "execution_count": 0,
      "outputs": []
    },
    {
      "cell_type": "markdown",
      "metadata": {
        "id": "X4LaUloTQenp",
        "colab_type": "text"
      },
      "source": [
        "### Iterator"
      ]
    },
    {
      "cell_type": "code",
      "metadata": {
        "id": "opILml5cgINj",
        "colab_type": "code",
        "colab": {}
      },
      "source": [
        "trn_itr = Iterator(trn, batch_size, device=DEVICE, shuffle=True)"
      ],
      "execution_count": 0,
      "outputs": []
    },
    {
      "cell_type": "code",
      "metadata": {
        "id": "BXbsm9ptjGUr",
        "colab_type": "code",
        "colab": {
          "base_uri": "https://localhost:8080/",
          "height": 151
        },
        "outputId": "8468694a-9741-44f8-ecce-c15fa9d881bd"
      },
      "source": [
        "example_batch = next(iter(trn_itr))\n",
        "example_batch"
      ],
      "execution_count": 27,
      "outputs": [
        {
          "output_type": "execute_result",
          "data": {
            "text/plain": [
              "\n",
              "[torchtext.data.batch.Batch of size 256]\n",
              "\t[.pos]:[torch.cuda.LongTensor of size 256x499 (GPU 0)]\n",
              "\t[.neg0]:[torch.cuda.LongTensor of size 256x58 (GPU 0)]\n",
              "\t[.neg1]:[torch.cuda.LongTensor of size 256x57 (GPU 0)]\n",
              "\t[.neg2]:[torch.cuda.LongTensor of size 256x66 (GPU 0)]\n",
              "\t[.neg3]:[torch.cuda.LongTensor of size 256x56 (GPU 0)]\n",
              "\t[.neg4]:[torch.cuda.LongTensor of size 256x53 (GPU 0)]"
            ]
          },
          "metadata": {
            "tags": []
          },
          "execution_count": 27
        }
      ]
    },
    {
      "cell_type": "markdown",
      "metadata": {
        "id": "y3_GqGh3BN9Z",
        "colab_type": "text"
      },
      "source": [
        "## Neural Network\n",
        "\n",
        "just use sentence embedding as an average over word embeddings **[5 points]**:  \n",
        "$z_s = \\frac 1 n \\sum_{i=1}^n e_{w_i}, z_s \\in R^d$ sentence embedding  \n",
        "$e_{w_i} \\in R^d$, token embedding of size d  \n",
        "$n$ - number of tokens in a sentence  \n",
        "(implemented with ```nn.EmbeddingBag```)\n",
        "\n",
        "$p_t = softmax(W z_s + b), p_t \\in R^K$ topic weights for sentence $s$, with trainable matrix $W \\in R^{dxK}$ and bias vector $b \\in R^K$  \n",
        "$r_s = T^T p_t, r_s \\in R^d$ reconstructed sentence embedding as a weighted sum of topic embeddings   \n",
        "$T \\in R^{Kxd}$ trainable matrix of topic embeddings, K=number of topics\n"
      ]
    },
    {
      "cell_type": "code",
      "metadata": {
        "id": "3MW8c2395Tgu",
        "colab_type": "code",
        "colab": {
          "base_uri": "https://localhost:8080/",
          "height": 34
        },
        "outputId": "c68489fe-705e-4d43-d592-16c26817a392"
      },
      "source": [
        "pad_id = TEXT.vocab.stoi['<pad>']\n",
        "pad_id"
      ],
      "execution_count": 28,
      "outputs": [
        {
          "output_type": "execute_result",
          "data": {
            "text/plain": [
              "1"
            ]
          },
          "metadata": {
            "tags": []
          },
          "execution_count": 28
        }
      ]
    },
    {
      "cell_type": "code",
      "metadata": {
        "id": "MyWZz9XSBNVV",
        "colab_type": "code",
        "colab": {}
      },
      "source": [
        "class MyModel(nn.Module):\n",
        "    \n",
        "    def __init__(self, vocab_size, emb_dim=300, topic_dim=5):\n",
        "      super(MyModel, self).__init__()\n",
        "      self.embedding = nn.EmbeddingBag(vocab_size, emb_dim)  ## how do I ignore the padding?\n",
        "      self.pt = nn.Linear(emb_dim, topic_dim)\n",
        "      self.soft = F.softmax\n",
        "      self.rs = nn.Linear(topic_dim, emb_dim, bias=False)\n",
        "\n",
        "    def forward(self, batch):\n",
        "      emb_x = self.embedding(batch.pos)\n",
        "      x = self.pt(emb_x)\n",
        "      x = self.soft(x)\n",
        "      x = self.rs(x) \n",
        "      \n",
        "      negs = [self.embedding(batch.neg0), \n",
        "              self.embedding(batch.neg1), \n",
        "              self.embedding(batch.neg2),\n",
        "              self.embedding(batch.neg3),\n",
        "              self.embedding(batch.neg4),]  ## how do I generalize this to different num_neg_samples?\n",
        "      negs = torch.stack(negs, dim=-1)\n",
        "\n",
        "      return vecs_rec, vecs_true, negs"
      ],
      "execution_count": 0,
      "outputs": []
    },
    {
      "cell_type": "code",
      "metadata": {
        "id": "QrocE9_AfJYU",
        "colab_type": "code",
        "colab": {
          "base_uri": "https://localhost:8080/",
          "height": 87
        },
        "outputId": "3e4b5dca-404b-4514-c519-6e49075034fe"
      },
      "source": [
        "model = MyModel(vocab_size)\n",
        "model = model.to(DEVICE)\n",
        "x, emb_x, negs = model(example_batch)\n",
        "x.shape"
      ],
      "execution_count": 38,
      "outputs": [
        {
          "output_type": "stream",
          "text": [
            "/usr/local/lib/python3.6/dist-packages/ipykernel_launcher.py:13: UserWarning: Implicit dimension choice for softmax has been deprecated. Change the call to include dim=X as an argument.\n",
            "  del sys.path[0]\n"
          ],
          "name": "stderr"
        },
        {
          "output_type": "execute_result",
          "data": {
            "text/plain": [
              "torch.Size([256, 300])"
            ]
          },
          "metadata": {
            "tags": []
          },
          "execution_count": 38
        }
      ]
    },
    {
      "cell_type": "code",
      "metadata": {
        "id": "P5-u-WIK_w5j",
        "colab_type": "code",
        "colab": {
          "base_uri": "https://localhost:8080/",
          "height": 34
        },
        "outputId": "75f12a37-dbc8-4d54-c306-4bfb939d119a"
      },
      "source": [
        "emb_x.shape"
      ],
      "execution_count": 31,
      "outputs": [
        {
          "output_type": "execute_result",
          "data": {
            "text/plain": [
              "torch.Size([256, 300])"
            ]
          },
          "metadata": {
            "tags": []
          },
          "execution_count": 31
        }
      ]
    },
    {
      "cell_type": "code",
      "metadata": {
        "id": "g9mPzg4E_FRr",
        "colab_type": "code",
        "colab": {
          "base_uri": "https://localhost:8080/",
          "height": 34
        },
        "outputId": "a6de0398-ce1a-4db1-aef3-961e26365603"
      },
      "source": [
        "negs.shape"
      ],
      "execution_count": 32,
      "outputs": [
        {
          "output_type": "execute_result",
          "data": {
            "text/plain": [
              "torch.Size([256, 300, 5])"
            ]
          },
          "metadata": {
            "tags": []
          },
          "execution_count": 32
        }
      ]
    },
    {
      "cell_type": "code",
      "metadata": {
        "id": "Ywj6YL-4lJB4",
        "colab_type": "code",
        "colab": {
          "base_uri": "https://localhost:8080/",
          "height": 34
        },
        "outputId": "721c6976-9a35-4ca4-d920-05333a804b9e"
      },
      "source": [
        "list(model.parameters())[0].shape"
      ],
      "execution_count": 33,
      "outputs": [
        {
          "output_type": "execute_result",
          "data": {
            "text/plain": [
              "torch.Size([95799, 300])"
            ]
          },
          "metadata": {
            "tags": []
          },
          "execution_count": 33
        }
      ]
    },
    {
      "cell_type": "code",
      "metadata": {
        "id": "z9xMJXlK_SWV",
        "colab_type": "code",
        "colab": {
          "base_uri": "https://localhost:8080/",
          "height": 34
        },
        "outputId": "ed81b8fb-53a1-4bc9-b377-aa3d76f9290e"
      },
      "source": [
        "model.embedding.weight.shape"
      ],
      "execution_count": 34,
      "outputs": [
        {
          "output_type": "execute_result",
          "data": {
            "text/plain": [
              "torch.Size([95799, 300])"
            ]
          },
          "metadata": {
            "tags": []
          },
          "execution_count": 34
        }
      ]
    },
    {
      "cell_type": "markdown",
      "metadata": {
        "id": "QJoYWJZUBuqi",
        "colab_type": "text"
      },
      "source": [
        "## Loss\n",
        "**Training objective**:\n",
        "\n",
        "$$ J = \\sum_{s \\in D} \\sum_{i=1}^m max(0, 1-r_s^T z_s + r_s^T n_i) + \\lambda ||T^T T - I ||^2_F  $$\n",
        "where   \n",
        "$m$ random sentences are sampled as negative examples from dataset $D$ for each sentence $s$  \n",
        "$n_i = \\frac 1 n \\sum_{i=j}^n e_{w_j}$ average of word embeddings in the i-th sentence  \n",
        "$||T^T T - I ||_F$ regularizer, that enforces matrix $T$ to be orthogonal  \n",
        "$||A||^2_F = \\sum_{i=1}^N\\sum_{j=1}^M a_{ij}^2, A \\in R^{NxM}$ Frobenius norm"
      ]
    },
    {
      "cell_type": "code",
      "metadata": {
        "id": "HCpVzlItBv2I",
        "colab_type": "code",
        "colab": {}
      },
      "source": [
        "class MyLoss(nn.Module):\n",
        "  def __init__(self, lmbd=0.01):\n",
        "    super(MyLoss, self).__init__()  \n",
        "    self.lmbd = lmbd\n",
        "\n",
        "  def forward(self, vecs_true, negs, vecs_rec, T):\n",
        "    vecs_true = vecs_true.unsqueeze(1) ## add dimension for bmm\n",
        "    rs = vecs_rec.unsqueeze(1) ## add dimension for bmm\n",
        "    rsT = rs.permute(0, 2, 1) ## transpose\n",
        "    rsTzs = torch.bmm(rsT, vecs_true)\n",
        "    negs_losses = []\n",
        "    for ni in negs.permute(2, 0, 1):  ## so that we iterate over the neg samples\n",
        "      ni = ni.unsqueeze(1) ## add dimension for bmm\n",
        "      negs_losses.append(torch.bmm(rsT, ni))\n",
        "    losses = []\n",
        "    for n_loss in negs_losses:\n",
        "      tmp = (1 - rsTzs + n_loss).squeeze(1)\n",
        "      zeros = torch.zeros_like(tmp).to(DEVICE)\n",
        "      values, idx = torch.max(torch.stack([tmp, zeros]), 0)\n",
        "      losses.append(values)\n",
        "    losses = torch.stack(losses, dim=-1)\n",
        "    reg_0 = torch.mm(T.permute(1,0), T)\n",
        "    reg = self.lmbd  * (torch.norm(reg_0 - torch.eye(reg_0.shape[0]).to(DEVICE), p='fro')) #\n",
        "    return torch.sum(losses) + reg"
      ],
      "execution_count": 0,
      "outputs": []
    },
    {
      "cell_type": "code",
      "metadata": {
        "id": "9YUFsnQFsh8L",
        "colab_type": "code",
        "colab": {
          "base_uri": "https://localhost:8080/",
          "height": 34
        },
        "outputId": "b6a4a161-83e4-456b-e5a1-f563a4eaec08"
      },
      "source": [
        "criterion = MyLoss()\n",
        "criterion.to(DEVICE)\n",
        "criterion(emb_x, negs, x, model.embedding.weight)"
      ],
      "execution_count": 42,
      "outputs": [
        {
          "output_type": "execute_result",
          "data": {
            "text/plain": [
              "tensor(1.1522e+08, device='cuda:0', grad_fn=<AddBackward0>)"
            ]
          },
          "metadata": {
            "tags": []
          },
          "execution_count": 42
        }
      ]
    },
    {
      "cell_type": "markdown",
      "metadata": {
        "id": "V97gWI-5vuEB",
        "colab_type": "text"
      },
      "source": [
        "## Train"
      ]
    },
    {
      "cell_type": "markdown",
      "metadata": {
        "id": "18SlWYJ-FTNx",
        "colab_type": "text"
      },
      "source": [
        "**TODO CHANGE THE EPOCH TRAIN TO THE NEW ARCHITECTURE**"
      ]
    },
    {
      "cell_type": "code",
      "metadata": {
        "id": "5sm_8gYlvz6k",
        "colab_type": "code",
        "colab": {}
      },
      "source": [
        "num_epochs = 10\n",
        "optimizer = torch.optim.Adam(model.parameters())"
      ],
      "execution_count": 0,
      "outputs": []
    },
    {
      "cell_type": "code",
      "metadata": {
        "id": "yngRqDkbiEIY",
        "colab_type": "code",
        "colab": {}
      },
      "source": [
        "def train_epoch(data_iter, len_iter, n_epoch, model, criterion, optimizer=None):\n",
        "    train_losses = []\n",
        "    total_loss = 0\n",
        "    data_iter = tqdm_notebook(data_iter, total=len_iter, desc=f\"Epoch {n_epoch + 1}\", leave=True)\n",
        "    counter = 0\n",
        "    for batch in data_iter:\n",
        "        if optimizer:\n",
        "          optimizer.zero_grad()\n",
        "        vecs_rec, vecs_true, negs = model.forward(batch)\n",
        "        loss = criterion(vecs_true, negs, vecs_rec, model.embedding.weight)\n",
        "        loss.backward()\n",
        "        if optimizer:\n",
        "          optimizer.step()\n",
        "        loss_value = loss.detach().item()\n",
        "        total_loss += loss_value\n",
        "        train_losses.append(loss_value)\n",
        "        data_iter.set_postfix(loss = loss_value)\n",
        "        counter += 1\n",
        "        \n",
        "    total_loss /= counter\n",
        "    return total_loss, train_losses"
      ],
      "execution_count": 0,
      "outputs": []
    },
    {
      "cell_type": "code",
      "metadata": {
        "id": "bwsvdLievvtl",
        "colab_type": "code",
        "colab": {
          "base_uri": "https://localhost:8080/",
          "height": 218,
          "referenced_widgets": [
            "9cef82b424604a0fb83ba6888e42a3db",
            "a5d6bf14736f4f869c573db8317b0ec1",
            "25842c72c12a408b9276752528a5f7b4",
            "cc13a4be7eba45bbb6383d71220772d3",
            "f1061f49ab8a43d09ac9edf313d85cec",
            "990341f6762d473cbd86357a0cf451d9",
            "39b6a38e08fa4d19b49c7436bea801e0",
            "f8c07a8c55d846c0829ecad110374687",
            "b3dbab9f7b454b30bf233ad685d69d53",
            "50721f6309af4574a6eb8d0e39f253c1",
            "2ee00dcfb1944a3dbc1fb113d4bc5210",
            "bbba39398cff4c7e865263e0ac49b20a",
            "8172e352ea8e4fff80e5b65b8b45f799",
            "6ebac5e4de0e406d9b18d2ecf05da5e4",
            "01650418b7bb47dc98ab9d8b1e251308",
            "83a518aca99e4acda54b856fd70f9384"
          ]
        },
        "outputId": "d8f0adda-d225-4b44-84f9-53e85ebb8e07"
      },
      "source": [
        "total_train_losses = []\n",
        "total_valid_losses = []\n",
        "for epoch in range(num_epochs):\n",
        "    model.train()\n",
        "    loss, train_losses = train_epoch(trn_itr, len(trn_itr), epoch, model, criterion, optimizer)\n",
        "    total_train_losses += train_losses\n",
        "    print('train', loss)"
      ],
      "execution_count": 0,
      "outputs": [
        {
          "output_type": "stream",
          "text": [
            "/usr/local/lib/python3.6/dist-packages/ipykernel_launcher.py:4: TqdmDeprecationWarning: This function will be removed in tqdm==5.0.0\n",
            "Please use `tqdm.notebook.tqdm` instead of `tqdm.tqdm_notebook`\n",
            "  after removing the cwd from sys.path.\n"
          ],
          "name": "stderr"
        },
        {
          "output_type": "display_data",
          "data": {
            "application/vnd.jupyter.widget-view+json": {
              "model_id": "9cef82b424604a0fb83ba6888e42a3db",
              "version_minor": 0,
              "version_major": 2
            },
            "text/plain": [
              "HBox(children=(IntProgress(value=0, description='Epoch 1', max=717, style=ProgressStyle(description_width='ini…"
            ]
          },
          "metadata": {
            "tags": []
          }
        },
        {
          "output_type": "stream",
          "text": [
            "/usr/local/lib/python3.6/dist-packages/ipykernel_launcher.py:13: UserWarning: Implicit dimension choice for softmax has been deprecated. Change the call to include dim=X as an argument.\n",
            "  del sys.path[0]\n"
          ],
          "name": "stderr"
        },
        {
          "output_type": "stream",
          "text": [
            "\n",
            "train 109404639.0906555\n"
          ],
          "name": "stdout"
        },
        {
          "output_type": "display_data",
          "data": {
            "application/vnd.jupyter.widget-view+json": {
              "model_id": "b3dbab9f7b454b30bf233ad685d69d53",
              "version_minor": 0,
              "version_major": 2
            },
            "text/plain": [
              "HBox(children=(IntProgress(value=0, description='Epoch 2', max=717, style=ProgressStyle(description_width='ini…"
            ]
          },
          "metadata": {
            "tags": []
          }
        }
      ]
    },
    {
      "cell_type": "code",
      "metadata": {
        "id": "_n5L5uHv1dLe",
        "colab_type": "code",
        "colab": {}
      },
      "source": [
        "smooth = lambda y: gaussian_filter1d(y, sigma=10)\n",
        "\n",
        "plt.figure(figsize=(14, 10))\n",
        "plt.plot(range(len(total_train_losses)), smooth(total_train_losses), np.array(range(len(total_valid_losses)))*(len(total_train_losses)/len(total_valid_losses)), smooth(total_valid_losses))\n",
        "plt.legend(('train loss', 'valid loss by batch'),\n",
        "           loc='center', prop={'size': 18})\n",
        "plt.title('Smoothed training process', fontsize=20)\n",
        "plt.xlabel('Iterations', fontsize=16)\n",
        "plt.ylabel('Loss function (smoothed)', fontsize=16)\n",
        "plt.show()"
      ],
      "execution_count": 0,
      "outputs": []
    },
    {
      "cell_type": "markdown",
      "metadata": {
        "id": "DpIq-PpWB11f",
        "colab_type": "text"
      },
      "source": [
        "## Topic Coherence"
      ]
    },
    {
      "cell_type": "code",
      "metadata": {
        "id": "FItocFXQFvPv",
        "colab_type": "code",
        "colab": {}
      },
      "source": [
        "wv = api.load('word2vec-google-news-300')\n",
        "wv['king'][:10]"
      ],
      "execution_count": 0,
      "outputs": []
    },
    {
      "cell_type": "code",
      "metadata": {
        "id": "M4h1fjvkFxia",
        "colab_type": "code",
        "colab": {}
      },
      "source": [
        "emb_dim = wv['king'].size"
      ],
      "execution_count": 0,
      "outputs": []
    }
  ]
}