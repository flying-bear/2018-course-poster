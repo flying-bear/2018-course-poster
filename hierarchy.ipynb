{
  "nbformat": 4,
  "nbformat_minor": 0,
  "metadata": {
    "colab": {
      "name": "hierarchy.ipynb",
      "provenance": [],
      "collapsed_sections": [
        "NVtEhA8jUWuc"
      ],
      "mount_file_id": "1nf3SIEE5iVNaysLWfRgn07ml8DJMF3MI",
      "authorship_tag": "ABX9TyPt3/KPOGg2rd8wJwaS5Y46",
      "include_colab_link": true
    },
    "kernelspec": {
      "name": "python3",
      "display_name": "Python 3"
    }
  },
  "cells": [
    {
      "cell_type": "markdown",
      "metadata": {
        "id": "view-in-github",
        "colab_type": "text"
      },
      "source": [
        "<a href=\"https://colab.research.google.com/github/flying-bear/2018-course-poster/blob/master/hierarchy.ipynb\" target=\"_parent\"><img src=\"https://colab.research.google.com/assets/colab-badge.svg\" alt=\"Open In Colab\"/></a>"
      ]
    },
    {
      "cell_type": "code",
      "metadata": {
        "id": "gmUWiPA7CwwU",
        "colab_type": "code",
        "colab": {}
      },
      "source": [
        "import math\n",
        "import matplotlib.pyplot as plt\n",
        "import numpy as np\n",
        "import pandas as pd\n",
        "import re\n",
        "import sklearn\n",
        "import scipy.stats\n",
        "import time\n",
        "\n",
        "from collections import Counter, Iterable\n",
        "from sklearn.feature_selection import SelectFromModel\n",
        "from sklearn.impute import SimpleImputer\n",
        "from sklearn.linear_model import LogisticRegressionCV, LogisticRegression\n",
        "from sklearn.model_selection import train_test_split\n",
        "from sklearn.preprocessing import LabelEncoder\n",
        "from sklearn import metrics\n",
        "from tqdm.notebook import tqdm"
      ],
      "execution_count": 0,
      "outputs": []
    },
    {
      "cell_type": "code",
      "metadata": {
        "id": "6S4jnjVoOwFo",
        "colab_type": "code",
        "colab": {}
      },
      "source": [
        "SEED = 42"
      ],
      "execution_count": 0,
      "outputs": []
    },
    {
      "cell_type": "code",
      "metadata": {
        "id": "Z0ImpQbQDBs_",
        "colab_type": "code",
        "colab": {}
      },
      "source": [
        "tf_idf_lsa_50 = pd.read_csv('/content/drive/My Drive/job/Data/tf_idf_lsa_50000.csv', index_col=0)"
      ],
      "execution_count": 0,
      "outputs": []
    },
    {
      "cell_type": "code",
      "metadata": {
        "id": "_rVSAMJsDaAs",
        "colab_type": "code",
        "colab": {}
      },
      "source": [
        "tf_idf_lsa_50 = tf_idf_lsa_50.drop(['BIRTH_DATE'], axis=1)"
      ],
      "execution_count": 0,
      "outputs": []
    },
    {
      "cell_type": "code",
      "metadata": {
        "id": "epaXr1A6DvhJ",
        "colab_type": "code",
        "colab": {}
      },
      "source": [
        "tgt_50 = pd.read_csv('/content/drive/My Drive/job/Data/tgt_50000.csv', index_col=0)"
      ],
      "execution_count": 0,
      "outputs": []
    },
    {
      "cell_type": "code",
      "metadata": {
        "id": "NVHIEHXiFw4A",
        "colab_type": "code",
        "colab": {}
      },
      "source": [
        "diagnoses = pd.read_csv('/content/drive/My Drive/job/Data/data.csv', index_col=0, usecols=['ID_EMIAS', 'Основной диагноз']).dropna()"
      ],
      "execution_count": 0,
      "outputs": []
    },
    {
      "cell_type": "code",
      "metadata": {
        "id": "4BUeyRPSGZUO",
        "colab_type": "code",
        "outputId": "9ce414e1-faa6-4752-bb8f-8a954046668e",
        "colab": {
          "base_uri": "https://localhost:8080/",
          "height": 170
        }
      },
      "source": [
        "uniques = np.unique(diagnoses['Основной диагноз'])\n",
        "uniques[:10]"
      ],
      "execution_count": 26,
      "outputs": [
        {
          "output_type": "execute_result",
          "data": {
            "text/plain": [
              "array(['B95.7 - Другие стафилококки как причина болезней, классифицированных в других рубриках',\n",
              "       'B95.8 - Неуточненные стафилококки как причина болезней, классифицированных в других рубриках',\n",
              "       'E78.2 - Смешанная гиперлипидемия',\n",
              "       'E78.5 - Гиперлипидемия неуточненная',\n",
              "       'H60.0 - Абсцесс наружного уха', 'H60.1 - Целлюлит наружного уха',\n",
              "       'H60.3 - Другие инфекционные наружные отиты',\n",
              "       'H60.5 - Острый наружный отит неинфекционный',\n",
              "       'H60.8 - Другие наружные отиты',\n",
              "       'H60.9 - Наружный отит неуточненный'], dtype=object)"
            ]
          },
          "metadata": {
            "tags": []
          },
          "execution_count": 26
        }
      ]
    },
    {
      "cell_type": "code",
      "metadata": {
        "id": "Y9To5r9vJn6C",
        "colab_type": "code",
        "colab": {}
      },
      "source": [
        "def process_code(string_code):\n",
        "  \"\"\"\n",
        "  splits 'Основной диагноз' into a letter code, a number code, a digit code, \n",
        "                                 and a description\n",
        "  :param str_code: str of format 'A12.3 - text text text'\n",
        "  :return: pd.Series of\n",
        "      :return letter: str, letter code, ICD-10 class\n",
        "      :return number: int, number code, ICD-10 inter-class code\n",
        "      :return digit: int, digit code, ICD-10 inter-disease code\n",
        "      :return text: str, ICD-10 code name\n",
        "  \"\"\"\n",
        "  string_code, text = string_code.split(' - ')\n",
        "  letter, number = string_code[0], string_code[1:3]\n",
        "  if '.' in string_code:\n",
        "    digit = int(string_code.split('.')[-1])\n",
        "  else:\n",
        "    digit = np.nan\n",
        "  return pd.Series([letter, number, digit, text])"
      ],
      "execution_count": 0,
      "outputs": []
    },
    {
      "cell_type": "code",
      "metadata": {
        "id": "_j8wp_KCKAot",
        "colab_type": "code",
        "outputId": "83c4245c-31d5-4cd8-f6ee-98760f18f7af",
        "colab": {
          "base_uri": "https://localhost:8080/",
          "height": 119
        }
      },
      "source": [
        "print(uniques[0])\n",
        "process_code(uniques[0])"
      ],
      "execution_count": 28,
      "outputs": [
        {
          "output_type": "stream",
          "text": [
            "B95.7 - Другие стафилококки как причина болезней, классифицированных в других рубриках\n"
          ],
          "name": "stdout"
        },
        {
          "output_type": "execute_result",
          "data": {
            "text/plain": [
              "0                                                    B\n",
              "1                                                   95\n",
              "2                                                    7\n",
              "3    Другие стафилококки как причина болезней, клас...\n",
              "dtype: object"
            ]
          },
          "metadata": {
            "tags": []
          },
          "execution_count": 28
        }
      ]
    },
    {
      "cell_type": "code",
      "metadata": {
        "id": "W8j_A9MFTi2H",
        "colab_type": "code",
        "colab": {
          "base_uri": "https://localhost:8080/",
          "height": 119
        },
        "outputId": "7375bb05-b58e-431c-93e6-4e874bb6622b"
      },
      "source": [
        "print(tgt_50.loc[16146942]['Основной диагноз'])\n",
        "process_code(tgt_50.loc[16146942]['Основной диагноз'])"
      ],
      "execution_count": 29,
      "outputs": [
        {
          "output_type": "stream",
          "text": [
            "J00 - Острый назофарингит (насморк)\n"
          ],
          "name": "stdout"
        },
        {
          "output_type": "execute_result",
          "data": {
            "text/plain": [
              "0                                J\n",
              "1                               00\n",
              "2                              NaN\n",
              "3    Острый назофарингит (насморк)\n",
              "dtype: object"
            ]
          },
          "metadata": {
            "tags": []
          },
          "execution_count": 29
        }
      ]
    },
    {
      "cell_type": "code",
      "metadata": {
        "id": "tLfOLJVhL66K",
        "colab_type": "code",
        "outputId": "703c84c1-6d91-47e7-b564-fd88c44e3a01",
        "colab": {
          "base_uri": "https://localhost:8080/",
          "height": 235
        }
      },
      "source": [
        "tgt_50[['letter', 'number', 'digit', 'text']] = tgt_50['Основной диагноз'].apply(process_code)\n",
        "tgt_50.tail()"
      ],
      "execution_count": 30,
      "outputs": [
        {
          "output_type": "execute_result",
          "data": {
            "text/html": [
              "<div>\n",
              "<style scoped>\n",
              "    .dataframe tbody tr th:only-of-type {\n",
              "        vertical-align: middle;\n",
              "    }\n",
              "\n",
              "    .dataframe tbody tr th {\n",
              "        vertical-align: top;\n",
              "    }\n",
              "\n",
              "    .dataframe thead th {\n",
              "        text-align: right;\n",
              "    }\n",
              "</style>\n",
              "<table border=\"1\" class=\"dataframe\">\n",
              "  <thead>\n",
              "    <tr style=\"text-align: right;\">\n",
              "      <th></th>\n",
              "      <th>Основной диагноз</th>\n",
              "      <th>letter</th>\n",
              "      <th>number</th>\n",
              "      <th>digit</th>\n",
              "      <th>text</th>\n",
              "    </tr>\n",
              "    <tr>\n",
              "      <th>ID_EMIAS</th>\n",
              "      <th></th>\n",
              "      <th></th>\n",
              "      <th></th>\n",
              "      <th></th>\n",
              "      <th></th>\n",
              "    </tr>\n",
              "  </thead>\n",
              "  <tbody>\n",
              "    <tr>\n",
              "      <th>16211073</th>\n",
              "      <td>I11.9 - Гипертензивная [гипертоническая] болез...</td>\n",
              "      <td>I</td>\n",
              "      <td>11</td>\n",
              "      <td>9.0</td>\n",
              "      <td>Гипертензивная [гипертоническая] болезнь с пре...</td>\n",
              "    </tr>\n",
              "    <tr>\n",
              "      <th>16211102</th>\n",
              "      <td>J04.1 - Острый трахеит</td>\n",
              "      <td>J</td>\n",
              "      <td>04</td>\n",
              "      <td>1.0</td>\n",
              "      <td>Острый трахеит</td>\n",
              "    </tr>\n",
              "    <tr>\n",
              "      <th>16211112</th>\n",
              "      <td>I11.9 - Гипертензивная [гипертоническая] болез...</td>\n",
              "      <td>I</td>\n",
              "      <td>11</td>\n",
              "      <td>9.0</td>\n",
              "      <td>Гипертензивная [гипертоническая] болезнь с пре...</td>\n",
              "    </tr>\n",
              "    <tr>\n",
              "      <th>16211116</th>\n",
              "      <td>J20.9 - Острый бронхит неуточненный</td>\n",
              "      <td>J</td>\n",
              "      <td>20</td>\n",
              "      <td>9.0</td>\n",
              "      <td>Острый бронхит неуточненный</td>\n",
              "    </tr>\n",
              "    <tr>\n",
              "      <th>16211117</th>\n",
              "      <td>J45.8 - Смешанная астма</td>\n",
              "      <td>J</td>\n",
              "      <td>45</td>\n",
              "      <td>8.0</td>\n",
              "      <td>Смешанная астма</td>\n",
              "    </tr>\n",
              "  </tbody>\n",
              "</table>\n",
              "</div>"
            ],
            "text/plain": [
              "                                           Основной диагноз  ...                                               text\n",
              "ID_EMIAS                                                     ...                                                   \n",
              "16211073  I11.9 - Гипертензивная [гипертоническая] болез...  ...  Гипертензивная [гипертоническая] болезнь с пре...\n",
              "16211102                             J04.1 - Острый трахеит  ...                                     Острый трахеит\n",
              "16211112  I11.9 - Гипертензивная [гипертоническая] болез...  ...  Гипертензивная [гипертоническая] болезнь с пре...\n",
              "16211116                J20.9 - Острый бронхит неуточненный  ...                        Острый бронхит неуточненный\n",
              "16211117                            J45.8 - Смешанная астма  ...                                    Смешанная астма\n",
              "\n",
              "[5 rows x 5 columns]"
            ]
          },
          "metadata": {
            "tags": []
          },
          "execution_count": 30
        }
      ]
    },
    {
      "cell_type": "code",
      "metadata": {
        "id": "55G7DT96VOAO",
        "colab_type": "code",
        "colab": {}
      },
      "source": [
        "def concat_code(xs):\n",
        "  if len(xs) == 3:\n",
        "    letter, number, digit = xs\n",
        "  elif len(xs) == 2:\n",
        "    letter, number = xs\n",
        "    digit = np.nan\n",
        "  if not pd.isnull(digit):\n",
        "    digit = str(int(digit))\n",
        "  else:\n",
        "    digit = ''\n",
        "  return int(''.join([str(letter), number, digit]))"
      ],
      "execution_count": 0,
      "outputs": []
    },
    {
      "cell_type": "code",
      "metadata": {
        "id": "CAX6--rcNUZl",
        "colab_type": "code",
        "outputId": "db77d364-010c-4efe-8844-a3dd49abee06",
        "colab": {
          "base_uri": "https://localhost:8080/",
          "height": 235
        }
      },
      "source": [
        "le = LabelEncoder()\n",
        "tgt_50['letter'] = le.fit_transform(tgt_50['letter'].values)\n",
        "tgt_50['concat_code'] = tgt_50[['letter', 'number', 'digit']].apply(concat_code, axis=1)\n",
        "tgt_50['concat_2'] = tgt_50[['letter', 'number']].apply(concat_code, axis=1)\n",
        "tgt_50.tail()"
      ],
      "execution_count": 32,
      "outputs": [
        {
          "output_type": "execute_result",
          "data": {
            "text/html": [
              "<div>\n",
              "<style scoped>\n",
              "    .dataframe tbody tr th:only-of-type {\n",
              "        vertical-align: middle;\n",
              "    }\n",
              "\n",
              "    .dataframe tbody tr th {\n",
              "        vertical-align: top;\n",
              "    }\n",
              "\n",
              "    .dataframe thead th {\n",
              "        text-align: right;\n",
              "    }\n",
              "</style>\n",
              "<table border=\"1\" class=\"dataframe\">\n",
              "  <thead>\n",
              "    <tr style=\"text-align: right;\">\n",
              "      <th></th>\n",
              "      <th>Основной диагноз</th>\n",
              "      <th>letter</th>\n",
              "      <th>number</th>\n",
              "      <th>digit</th>\n",
              "      <th>text</th>\n",
              "      <th>concat_code</th>\n",
              "      <th>concat_2</th>\n",
              "    </tr>\n",
              "    <tr>\n",
              "      <th>ID_EMIAS</th>\n",
              "      <th></th>\n",
              "      <th></th>\n",
              "      <th></th>\n",
              "      <th></th>\n",
              "      <th></th>\n",
              "      <th></th>\n",
              "      <th></th>\n",
              "    </tr>\n",
              "  </thead>\n",
              "  <tbody>\n",
              "    <tr>\n",
              "      <th>16211073</th>\n",
              "      <td>I11.9 - Гипертензивная [гипертоническая] болез...</td>\n",
              "      <td>2</td>\n",
              "      <td>11</td>\n",
              "      <td>9.0</td>\n",
              "      <td>Гипертензивная [гипертоническая] болезнь с пре...</td>\n",
              "      <td>2119</td>\n",
              "      <td>211</td>\n",
              "    </tr>\n",
              "    <tr>\n",
              "      <th>16211102</th>\n",
              "      <td>J04.1 - Острый трахеит</td>\n",
              "      <td>3</td>\n",
              "      <td>04</td>\n",
              "      <td>1.0</td>\n",
              "      <td>Острый трахеит</td>\n",
              "      <td>3041</td>\n",
              "      <td>304</td>\n",
              "    </tr>\n",
              "    <tr>\n",
              "      <th>16211112</th>\n",
              "      <td>I11.9 - Гипертензивная [гипертоническая] болез...</td>\n",
              "      <td>2</td>\n",
              "      <td>11</td>\n",
              "      <td>9.0</td>\n",
              "      <td>Гипертензивная [гипертоническая] болезнь с пре...</td>\n",
              "      <td>2119</td>\n",
              "      <td>211</td>\n",
              "    </tr>\n",
              "    <tr>\n",
              "      <th>16211116</th>\n",
              "      <td>J20.9 - Острый бронхит неуточненный</td>\n",
              "      <td>3</td>\n",
              "      <td>20</td>\n",
              "      <td>9.0</td>\n",
              "      <td>Острый бронхит неуточненный</td>\n",
              "      <td>3209</td>\n",
              "      <td>320</td>\n",
              "    </tr>\n",
              "    <tr>\n",
              "      <th>16211117</th>\n",
              "      <td>J45.8 - Смешанная астма</td>\n",
              "      <td>3</td>\n",
              "      <td>45</td>\n",
              "      <td>8.0</td>\n",
              "      <td>Смешанная астма</td>\n",
              "      <td>3458</td>\n",
              "      <td>345</td>\n",
              "    </tr>\n",
              "  </tbody>\n",
              "</table>\n",
              "</div>"
            ],
            "text/plain": [
              "                                           Основной диагноз  ...  concat_2\n",
              "ID_EMIAS                                                     ...          \n",
              "16211073  I11.9 - Гипертензивная [гипертоническая] болез...  ...       211\n",
              "16211102                             J04.1 - Острый трахеит  ...       304\n",
              "16211112  I11.9 - Гипертензивная [гипертоническая] болез...  ...       211\n",
              "16211116                J20.9 - Острый бронхит неуточненный  ...       320\n",
              "16211117                            J45.8 - Смешанная астма  ...       345\n",
              "\n",
              "[5 rows x 7 columns]"
            ]
          },
          "metadata": {
            "tags": []
          },
          "execution_count": 32
        }
      ]
    },
    {
      "cell_type": "code",
      "metadata": {
        "id": "JP0PhxLKRDJo",
        "colab_type": "code",
        "colab": {
          "base_uri": "https://localhost:8080/",
          "height": 318
        },
        "outputId": "38edb0f2-1f6f-4149-9864-e59395588d3e"
      },
      "source": [
        "sorted_50000 = pd.concat([tgt_50[['letter', 'number', 'digit', 'concat_code', 'concat_2']], tf_idf_lsa_50], axis=1).sort_values('concat_code', ascending=False)\n",
        "sorted_50000.tail()"
      ],
      "execution_count": 14,
      "outputs": [
        {
          "output_type": "execute_result",
          "data": {
            "text/html": [
              "<div>\n",
              "<style scoped>\n",
              "    .dataframe tbody tr th:only-of-type {\n",
              "        vertical-align: middle;\n",
              "    }\n",
              "\n",
              "    .dataframe tbody tr th {\n",
              "        vertical-align: top;\n",
              "    }\n",
              "\n",
              "    .dataframe thead th {\n",
              "        text-align: right;\n",
              "    }\n",
              "</style>\n",
              "<table border=\"1\" class=\"dataframe\">\n",
              "  <thead>\n",
              "    <tr style=\"text-align: right;\">\n",
              "      <th></th>\n",
              "      <th>letter</th>\n",
              "      <th>number</th>\n",
              "      <th>digit</th>\n",
              "      <th>concat_code</th>\n",
              "      <th>concat_2</th>\n",
              "      <th>IS_MALE</th>\n",
              "      <th>Диагностический статус</th>\n",
              "      <th>Общее состояние</th>\n",
              "      <th>Нервно-психический статус</th>\n",
              "      <th>Уровень сознания</th>\n",
              "      <th>Наличие отеков</th>\n",
              "      <th>Степень отеков</th>\n",
              "      <th>Вес</th>\n",
              "      <th>Рост</th>\n",
              "      <th>ИМТ</th>\n",
              "      <th>Окружность талии</th>\n",
              "      <th>Температура</th>\n",
              "      <th>Пульс</th>\n",
              "      <th>Ритм</th>\n",
              "      <th>1ый тон</th>\n",
              "      <th>2ой тон</th>\n",
              "      <th>Шум в сердце</th>\n",
              "      <th>Сердечный толчок</th>\n",
              "      <th>Верхушечный толчок</th>\n",
              "      <th>Границы сердца</th>\n",
              "      <th>САД</th>\n",
              "      <th>ДАД</th>\n",
              "      <th>ЧДД</th>\n",
              "      <th>Носовое дыхание</th>\n",
              "      <th>Выделения из носа</th>\n",
              "      <th>Количество выделений из носа</th>\n",
              "      <th>Характер выделений из носа</th>\n",
              "      <th>Характер дыхания</th>\n",
              "      <th>Наличие хрипов</th>\n",
              "      <th>Аускультация легких</th>\n",
              "      <th>Влажность хрипов</th>\n",
              "      <th>Характеристика сухих крипов</th>\n",
              "      <th>Наличие крепитации</th>\n",
              "      <th>Шем трения плевры</th>\n",
              "      <th>Форма грудной клетки</th>\n",
              "      <th>...</th>\n",
              "      <th>Сопуствующие заболевания_tok_90</th>\n",
              "      <th>Сопуствующие заболевания_tok_91</th>\n",
              "      <th>Сопуствующие заболевания_tok_92</th>\n",
              "      <th>Сопуствующие заболевания_tok_93</th>\n",
              "      <th>Сопуствующие заболевания_tok_94</th>\n",
              "      <th>Сопуствующие заболевания_tok_95</th>\n",
              "      <th>Сопуствующие заболевания_tok_96</th>\n",
              "      <th>Сопуствующие заболевания_tok_97</th>\n",
              "      <th>Сопуствующие заболевания_tok_98</th>\n",
              "      <th>Сопуствующие заболевания_tok_99</th>\n",
              "      <th>Сопуствующие заболевания_tok_100</th>\n",
              "      <th>Сопуствующие заболевания_tok_101</th>\n",
              "      <th>Сопуствующие заболевания_tok_102</th>\n",
              "      <th>Сопуствующие заболевания_tok_103</th>\n",
              "      <th>Сопуствующие заболевания_tok_104</th>\n",
              "      <th>Сопуствующие заболевания_tok_105</th>\n",
              "      <th>Сопуствующие заболевания_tok_106</th>\n",
              "      <th>Сопуствующие заболевания_tok_107</th>\n",
              "      <th>Сопуствующие заболевания_tok_108</th>\n",
              "      <th>Сопуствующие заболевания_tok_109</th>\n",
              "      <th>Сопуствующие заболевания_tok_110</th>\n",
              "      <th>Сопуствующие заболевания_tok_111</th>\n",
              "      <th>Сопуствующие заболевания_tok_112</th>\n",
              "      <th>Сопуствующие заболевания_tok_113</th>\n",
              "      <th>Сопуствующие заболевания_tok_114</th>\n",
              "      <th>Сопуствующие заболевания_tok_115</th>\n",
              "      <th>Сопуствующие заболевания_tok_116</th>\n",
              "      <th>Сопуствующие заболевания_tok_117</th>\n",
              "      <th>Сопуствующие заболевания_tok_118</th>\n",
              "      <th>Сопуствующие заболевания_tok_119</th>\n",
              "      <th>Сопуствующие заболевания_tok_120</th>\n",
              "      <th>Сопуствующие заболевания_tok_121</th>\n",
              "      <th>Сопуствующие заболевания_tok_122</th>\n",
              "      <th>Сопуствующие заболевания_tok_123</th>\n",
              "      <th>Сопуствующие заболевания_tok_124</th>\n",
              "      <th>Сопуствующие заболевания_tok_125</th>\n",
              "      <th>Сопуствующие заболевания_tok_126</th>\n",
              "      <th>Сопуствующие заболевания_tok_127</th>\n",
              "      <th>Сопуствующие заболевания_tok_128</th>\n",
              "      <th>Сопуствующие заболевания_tok_129</th>\n",
              "    </tr>\n",
              "    <tr>\n",
              "      <th>ID_EMIAS</th>\n",
              "      <th></th>\n",
              "      <th></th>\n",
              "      <th></th>\n",
              "      <th></th>\n",
              "      <th></th>\n",
              "      <th></th>\n",
              "      <th></th>\n",
              "      <th></th>\n",
              "      <th></th>\n",
              "      <th></th>\n",
              "      <th></th>\n",
              "      <th></th>\n",
              "      <th></th>\n",
              "      <th></th>\n",
              "      <th></th>\n",
              "      <th></th>\n",
              "      <th></th>\n",
              "      <th></th>\n",
              "      <th></th>\n",
              "      <th></th>\n",
              "      <th></th>\n",
              "      <th></th>\n",
              "      <th></th>\n",
              "      <th></th>\n",
              "      <th></th>\n",
              "      <th></th>\n",
              "      <th></th>\n",
              "      <th></th>\n",
              "      <th></th>\n",
              "      <th></th>\n",
              "      <th></th>\n",
              "      <th></th>\n",
              "      <th></th>\n",
              "      <th></th>\n",
              "      <th></th>\n",
              "      <th></th>\n",
              "      <th></th>\n",
              "      <th></th>\n",
              "      <th></th>\n",
              "      <th></th>\n",
              "      <th></th>\n",
              "      <th></th>\n",
              "      <th></th>\n",
              "      <th></th>\n",
              "      <th></th>\n",
              "      <th></th>\n",
              "      <th></th>\n",
              "      <th></th>\n",
              "      <th></th>\n",
              "      <th></th>\n",
              "      <th></th>\n",
              "      <th></th>\n",
              "      <th></th>\n",
              "      <th></th>\n",
              "      <th></th>\n",
              "      <th></th>\n",
              "      <th></th>\n",
              "      <th></th>\n",
              "      <th></th>\n",
              "      <th></th>\n",
              "      <th></th>\n",
              "      <th></th>\n",
              "      <th></th>\n",
              "      <th></th>\n",
              "      <th></th>\n",
              "      <th></th>\n",
              "      <th></th>\n",
              "      <th></th>\n",
              "      <th></th>\n",
              "      <th></th>\n",
              "      <th></th>\n",
              "      <th></th>\n",
              "      <th></th>\n",
              "      <th></th>\n",
              "      <th></th>\n",
              "      <th></th>\n",
              "      <th></th>\n",
              "      <th></th>\n",
              "      <th></th>\n",
              "      <th></th>\n",
              "      <th></th>\n",
              "    </tr>\n",
              "  </thead>\n",
              "  <tbody>\n",
              "    <tr>\n",
              "      <th>16047412</th>\n",
              "      <td>2</td>\n",
              "      <td>10</td>\n",
              "      <td>NaN</td>\n",
              "      <td>210</td>\n",
              "      <td>210</td>\n",
              "      <td>0</td>\n",
              "      <td>0</td>\n",
              "      <td>0</td>\n",
              "      <td>0</td>\n",
              "      <td>0</td>\n",
              "      <td>1</td>\n",
              "      <td>0</td>\n",
              "      <td>NaN</td>\n",
              "      <td>NaN</td>\n",
              "      <td>NaN</td>\n",
              "      <td>NaN</td>\n",
              "      <td>36.5</td>\n",
              "      <td>72.0</td>\n",
              "      <td>2</td>\n",
              "      <td>0</td>\n",
              "      <td>0</td>\n",
              "      <td>0</td>\n",
              "      <td>0</td>\n",
              "      <td>0</td>\n",
              "      <td>0</td>\n",
              "      <td>120.0</td>\n",
              "      <td>80.0</td>\n",
              "      <td>18.0</td>\n",
              "      <td>3</td>\n",
              "      <td>2</td>\n",
              "      <td>0</td>\n",
              "      <td>0</td>\n",
              "      <td>3</td>\n",
              "      <td>5</td>\n",
              "      <td>0</td>\n",
              "      <td>0</td>\n",
              "      <td>0</td>\n",
              "      <td>0</td>\n",
              "      <td>0</td>\n",
              "      <td>0</td>\n",
              "      <td>...</td>\n",
              "      <td>0.000000</td>\n",
              "      <td>0.000000</td>\n",
              "      <td>0.000000</td>\n",
              "      <td>0.000000</td>\n",
              "      <td>0.000000</td>\n",
              "      <td>0.000000</td>\n",
              "      <td>0.000000</td>\n",
              "      <td>0.000000</td>\n",
              "      <td>0.000000</td>\n",
              "      <td>0.000000</td>\n",
              "      <td>0.000000</td>\n",
              "      <td>0.000000</td>\n",
              "      <td>0.000000</td>\n",
              "      <td>0.000000</td>\n",
              "      <td>0.000000</td>\n",
              "      <td>0.000000</td>\n",
              "      <td>0.000000</td>\n",
              "      <td>0.000000</td>\n",
              "      <td>0.000000</td>\n",
              "      <td>0.000000</td>\n",
              "      <td>0.000000</td>\n",
              "      <td>0.000000</td>\n",
              "      <td>0.000000</td>\n",
              "      <td>0.000000</td>\n",
              "      <td>0.000000</td>\n",
              "      <td>0.000000</td>\n",
              "      <td>0.000000</td>\n",
              "      <td>0.000000</td>\n",
              "      <td>0.000000</td>\n",
              "      <td>0.000000</td>\n",
              "      <td>0.000000</td>\n",
              "      <td>0.00000</td>\n",
              "      <td>0.000000</td>\n",
              "      <td>0.000000</td>\n",
              "      <td>0.00000</td>\n",
              "      <td>0.000000</td>\n",
              "      <td>0.000000</td>\n",
              "      <td>0.000000</td>\n",
              "      <td>0.00000</td>\n",
              "      <td>0.000000</td>\n",
              "    </tr>\n",
              "    <tr>\n",
              "      <th>15952909</th>\n",
              "      <td>2</td>\n",
              "      <td>10</td>\n",
              "      <td>NaN</td>\n",
              "      <td>210</td>\n",
              "      <td>210</td>\n",
              "      <td>1</td>\n",
              "      <td>0</td>\n",
              "      <td>3</td>\n",
              "      <td>2</td>\n",
              "      <td>2</td>\n",
              "      <td>1</td>\n",
              "      <td>0</td>\n",
              "      <td>143.0</td>\n",
              "      <td>192.0</td>\n",
              "      <td>38.8</td>\n",
              "      <td>NaN</td>\n",
              "      <td>36.6</td>\n",
              "      <td>80.0</td>\n",
              "      <td>2</td>\n",
              "      <td>0</td>\n",
              "      <td>0</td>\n",
              "      <td>2</td>\n",
              "      <td>0</td>\n",
              "      <td>0</td>\n",
              "      <td>0</td>\n",
              "      <td>180.0</td>\n",
              "      <td>130.0</td>\n",
              "      <td>16.0</td>\n",
              "      <td>3</td>\n",
              "      <td>2</td>\n",
              "      <td>0</td>\n",
              "      <td>0</td>\n",
              "      <td>3</td>\n",
              "      <td>5</td>\n",
              "      <td>0</td>\n",
              "      <td>0</td>\n",
              "      <td>0</td>\n",
              "      <td>2</td>\n",
              "      <td>3</td>\n",
              "      <td>3</td>\n",
              "      <td>...</td>\n",
              "      <td>0.000748</td>\n",
              "      <td>0.001988</td>\n",
              "      <td>0.002353</td>\n",
              "      <td>0.001542</td>\n",
              "      <td>-0.007723</td>\n",
              "      <td>-0.019279</td>\n",
              "      <td>-0.004143</td>\n",
              "      <td>0.004173</td>\n",
              "      <td>0.002288</td>\n",
              "      <td>-0.007629</td>\n",
              "      <td>-0.016567</td>\n",
              "      <td>-0.002275</td>\n",
              "      <td>-0.000241</td>\n",
              "      <td>-0.006125</td>\n",
              "      <td>-0.005418</td>\n",
              "      <td>0.001087</td>\n",
              "      <td>0.000671</td>\n",
              "      <td>-0.001132</td>\n",
              "      <td>-0.004499</td>\n",
              "      <td>0.000634</td>\n",
              "      <td>-0.003367</td>\n",
              "      <td>-0.002405</td>\n",
              "      <td>-0.005451</td>\n",
              "      <td>0.004602</td>\n",
              "      <td>0.000239</td>\n",
              "      <td>0.001758</td>\n",
              "      <td>0.001033</td>\n",
              "      <td>0.000247</td>\n",
              "      <td>0.001097</td>\n",
              "      <td>-0.000686</td>\n",
              "      <td>-0.000136</td>\n",
              "      <td>-0.00181</td>\n",
              "      <td>-0.002921</td>\n",
              "      <td>0.000693</td>\n",
              "      <td>0.00084</td>\n",
              "      <td>-0.002277</td>\n",
              "      <td>-0.000948</td>\n",
              "      <td>0.000169</td>\n",
              "      <td>-0.00138</td>\n",
              "      <td>0.000544</td>\n",
              "    </tr>\n",
              "    <tr>\n",
              "      <th>10280739</th>\n",
              "      <td>2</td>\n",
              "      <td>10</td>\n",
              "      <td>NaN</td>\n",
              "      <td>210</td>\n",
              "      <td>210</td>\n",
              "      <td>0</td>\n",
              "      <td>0</td>\n",
              "      <td>3</td>\n",
              "      <td>2</td>\n",
              "      <td>2</td>\n",
              "      <td>0</td>\n",
              "      <td>0</td>\n",
              "      <td>90.0</td>\n",
              "      <td>160.0</td>\n",
              "      <td>35.2</td>\n",
              "      <td>NaN</td>\n",
              "      <td>36.4</td>\n",
              "      <td>86.0</td>\n",
              "      <td>0</td>\n",
              "      <td>0</td>\n",
              "      <td>0</td>\n",
              "      <td>0</td>\n",
              "      <td>0</td>\n",
              "      <td>0</td>\n",
              "      <td>0</td>\n",
              "      <td>130.0</td>\n",
              "      <td>70.0</td>\n",
              "      <td>69.0</td>\n",
              "      <td>0</td>\n",
              "      <td>0</td>\n",
              "      <td>0</td>\n",
              "      <td>0</td>\n",
              "      <td>0</td>\n",
              "      <td>0</td>\n",
              "      <td>0</td>\n",
              "      <td>0</td>\n",
              "      <td>0</td>\n",
              "      <td>0</td>\n",
              "      <td>0</td>\n",
              "      <td>0</td>\n",
              "      <td>...</td>\n",
              "      <td>0.000000</td>\n",
              "      <td>0.000000</td>\n",
              "      <td>0.000000</td>\n",
              "      <td>0.000000</td>\n",
              "      <td>0.000000</td>\n",
              "      <td>0.000000</td>\n",
              "      <td>0.000000</td>\n",
              "      <td>0.000000</td>\n",
              "      <td>0.000000</td>\n",
              "      <td>0.000000</td>\n",
              "      <td>0.000000</td>\n",
              "      <td>0.000000</td>\n",
              "      <td>0.000000</td>\n",
              "      <td>0.000000</td>\n",
              "      <td>0.000000</td>\n",
              "      <td>0.000000</td>\n",
              "      <td>0.000000</td>\n",
              "      <td>0.000000</td>\n",
              "      <td>0.000000</td>\n",
              "      <td>0.000000</td>\n",
              "      <td>0.000000</td>\n",
              "      <td>0.000000</td>\n",
              "      <td>0.000000</td>\n",
              "      <td>0.000000</td>\n",
              "      <td>0.000000</td>\n",
              "      <td>0.000000</td>\n",
              "      <td>0.000000</td>\n",
              "      <td>0.000000</td>\n",
              "      <td>0.000000</td>\n",
              "      <td>0.000000</td>\n",
              "      <td>0.000000</td>\n",
              "      <td>0.00000</td>\n",
              "      <td>0.000000</td>\n",
              "      <td>0.000000</td>\n",
              "      <td>0.00000</td>\n",
              "      <td>0.000000</td>\n",
              "      <td>0.000000</td>\n",
              "      <td>0.000000</td>\n",
              "      <td>0.00000</td>\n",
              "      <td>0.000000</td>\n",
              "    </tr>\n",
              "    <tr>\n",
              "      <th>16059281</th>\n",
              "      <td>2</td>\n",
              "      <td>10</td>\n",
              "      <td>NaN</td>\n",
              "      <td>210</td>\n",
              "      <td>210</td>\n",
              "      <td>1</td>\n",
              "      <td>0</td>\n",
              "      <td>0</td>\n",
              "      <td>0</td>\n",
              "      <td>0</td>\n",
              "      <td>0</td>\n",
              "      <td>0</td>\n",
              "      <td>NaN</td>\n",
              "      <td>NaN</td>\n",
              "      <td>NaN</td>\n",
              "      <td>NaN</td>\n",
              "      <td>NaN</td>\n",
              "      <td>NaN</td>\n",
              "      <td>0</td>\n",
              "      <td>0</td>\n",
              "      <td>0</td>\n",
              "      <td>0</td>\n",
              "      <td>0</td>\n",
              "      <td>0</td>\n",
              "      <td>0</td>\n",
              "      <td>NaN</td>\n",
              "      <td>NaN</td>\n",
              "      <td>NaN</td>\n",
              "      <td>0</td>\n",
              "      <td>0</td>\n",
              "      <td>0</td>\n",
              "      <td>0</td>\n",
              "      <td>0</td>\n",
              "      <td>0</td>\n",
              "      <td>0</td>\n",
              "      <td>0</td>\n",
              "      <td>0</td>\n",
              "      <td>0</td>\n",
              "      <td>0</td>\n",
              "      <td>0</td>\n",
              "      <td>...</td>\n",
              "      <td>0.000000</td>\n",
              "      <td>0.000000</td>\n",
              "      <td>0.000000</td>\n",
              "      <td>0.000000</td>\n",
              "      <td>0.000000</td>\n",
              "      <td>0.000000</td>\n",
              "      <td>0.000000</td>\n",
              "      <td>0.000000</td>\n",
              "      <td>0.000000</td>\n",
              "      <td>0.000000</td>\n",
              "      <td>0.000000</td>\n",
              "      <td>0.000000</td>\n",
              "      <td>0.000000</td>\n",
              "      <td>0.000000</td>\n",
              "      <td>0.000000</td>\n",
              "      <td>0.000000</td>\n",
              "      <td>0.000000</td>\n",
              "      <td>0.000000</td>\n",
              "      <td>0.000000</td>\n",
              "      <td>0.000000</td>\n",
              "      <td>0.000000</td>\n",
              "      <td>0.000000</td>\n",
              "      <td>0.000000</td>\n",
              "      <td>0.000000</td>\n",
              "      <td>0.000000</td>\n",
              "      <td>0.000000</td>\n",
              "      <td>0.000000</td>\n",
              "      <td>0.000000</td>\n",
              "      <td>0.000000</td>\n",
              "      <td>0.000000</td>\n",
              "      <td>0.000000</td>\n",
              "      <td>0.00000</td>\n",
              "      <td>0.000000</td>\n",
              "      <td>0.000000</td>\n",
              "      <td>0.00000</td>\n",
              "      <td>0.000000</td>\n",
              "      <td>0.000000</td>\n",
              "      <td>0.000000</td>\n",
              "      <td>0.00000</td>\n",
              "      <td>0.000000</td>\n",
              "    </tr>\n",
              "    <tr>\n",
              "      <th>16066761</th>\n",
              "      <td>2</td>\n",
              "      <td>10</td>\n",
              "      <td>NaN</td>\n",
              "      <td>210</td>\n",
              "      <td>210</td>\n",
              "      <td>0</td>\n",
              "      <td>0</td>\n",
              "      <td>3</td>\n",
              "      <td>0</td>\n",
              "      <td>0</td>\n",
              "      <td>0</td>\n",
              "      <td>0</td>\n",
              "      <td>NaN</td>\n",
              "      <td>NaN</td>\n",
              "      <td>NaN</td>\n",
              "      <td>NaN</td>\n",
              "      <td>NaN</td>\n",
              "      <td>90.0</td>\n",
              "      <td>2</td>\n",
              "      <td>0</td>\n",
              "      <td>0</td>\n",
              "      <td>0</td>\n",
              "      <td>0</td>\n",
              "      <td>0</td>\n",
              "      <td>0</td>\n",
              "      <td>160.0</td>\n",
              "      <td>110.0</td>\n",
              "      <td>NaN</td>\n",
              "      <td>0</td>\n",
              "      <td>0</td>\n",
              "      <td>0</td>\n",
              "      <td>0</td>\n",
              "      <td>3</td>\n",
              "      <td>5</td>\n",
              "      <td>0</td>\n",
              "      <td>0</td>\n",
              "      <td>0</td>\n",
              "      <td>0</td>\n",
              "      <td>0</td>\n",
              "      <td>0</td>\n",
              "      <td>...</td>\n",
              "      <td>0.000000</td>\n",
              "      <td>0.000000</td>\n",
              "      <td>0.000000</td>\n",
              "      <td>0.000000</td>\n",
              "      <td>0.000000</td>\n",
              "      <td>0.000000</td>\n",
              "      <td>0.000000</td>\n",
              "      <td>0.000000</td>\n",
              "      <td>0.000000</td>\n",
              "      <td>0.000000</td>\n",
              "      <td>0.000000</td>\n",
              "      <td>0.000000</td>\n",
              "      <td>0.000000</td>\n",
              "      <td>0.000000</td>\n",
              "      <td>0.000000</td>\n",
              "      <td>0.000000</td>\n",
              "      <td>0.000000</td>\n",
              "      <td>0.000000</td>\n",
              "      <td>0.000000</td>\n",
              "      <td>0.000000</td>\n",
              "      <td>0.000000</td>\n",
              "      <td>0.000000</td>\n",
              "      <td>0.000000</td>\n",
              "      <td>0.000000</td>\n",
              "      <td>0.000000</td>\n",
              "      <td>0.000000</td>\n",
              "      <td>0.000000</td>\n",
              "      <td>0.000000</td>\n",
              "      <td>0.000000</td>\n",
              "      <td>0.000000</td>\n",
              "      <td>0.000000</td>\n",
              "      <td>0.00000</td>\n",
              "      <td>0.000000</td>\n",
              "      <td>0.000000</td>\n",
              "      <td>0.00000</td>\n",
              "      <td>0.000000</td>\n",
              "      <td>0.000000</td>\n",
              "      <td>0.000000</td>\n",
              "      <td>0.00000</td>\n",
              "      <td>0.000000</td>\n",
              "    </tr>\n",
              "  </tbody>\n",
              "</table>\n",
              "<p>5 rows × 4084 columns</p>\n",
              "</div>"
            ],
            "text/plain": [
              "          letter  ... Сопуствующие заболевания_tok_129\n",
              "ID_EMIAS          ...                                 \n",
              "16047412       2  ...                         0.000000\n",
              "15952909       2  ...                         0.000544\n",
              "10280739       2  ...                         0.000000\n",
              "16059281       2  ...                         0.000000\n",
              "16066761       2  ...                         0.000000\n",
              "\n",
              "[5 rows x 4084 columns]"
            ]
          },
          "metadata": {
            "tags": []
          },
          "execution_count": 14
        }
      ]
    },
    {
      "cell_type": "code",
      "metadata": {
        "id": "7e9ip4n7YFMq",
        "colab_type": "code",
        "colab": {}
      },
      "source": [
        "sorted_50000.to_csv('/content/drive/My Drive/job/Data/sorted_diagnosis_50000.csv')"
      ],
      "execution_count": 0,
      "outputs": []
    },
    {
      "cell_type": "code",
      "metadata": {
        "id": "o3LK9AxfPKMM",
        "colab_type": "code",
        "outputId": "e231fb75-7894-49c8-ffb5-87ff6e713a81",
        "colab": {
          "base_uri": "https://localhost:8080/",
          "height": 153
        }
      },
      "source": [
        "tgt_50.apply(lambda column: len(np.unique(column.values)), axis=0)"
      ],
      "execution_count": 15,
      "outputs": [
        {
          "output_type": "execute_result",
          "data": {
            "text/plain": [
              "Основной диагноз     39\n",
              "letter                4\n",
              "number               18\n",
              "digit               761\n",
              "text                 39\n",
              "concat_code          39\n",
              "concat_2             19\n",
              "dtype: int64"
            ]
          },
          "metadata": {
            "tags": []
          },
          "execution_count": 15
        }
      ]
    },
    {
      "cell_type": "markdown",
      "metadata": {
        "id": "NVtEhA8jUWuc",
        "colab_type": "text"
      },
      "source": [
        "# Test"
      ]
    },
    {
      "cell_type": "markdown",
      "metadata": {
        "id": "cFpnr7tJW8eO",
        "colab_type": "text"
      },
      "source": [
        "## test on vectorized 50k on the 1st level (4 classes)"
      ]
    },
    {
      "cell_type": "code",
      "metadata": {
        "id": "fVDkDeLEOVTe",
        "colab_type": "code",
        "colab": {}
      },
      "source": [
        "target = tgt_50.letter.values"
      ],
      "execution_count": 0,
      "outputs": []
    },
    {
      "cell_type": "code",
      "metadata": {
        "id": "xmOXKb5MOadx",
        "colab_type": "code",
        "outputId": "0769c1d4-572d-415f-c3f7-f5f5b0bc2940",
        "colab": {
          "base_uri": "https://localhost:8080/",
          "height": 51
        }
      },
      "source": [
        "%time\n",
        "imputer = SimpleImputer(missing_values=np.nan, strategy='median')\n",
        "tf_idf_lsa_50_median = imputer.fit_transform(tf_idf_lsa_50)"
      ],
      "execution_count": 0,
      "outputs": [
        {
          "output_type": "stream",
          "text": [
            "CPU times: user 4 µs, sys: 0 ns, total: 4 µs\n",
            "Wall time: 7.39 µs\n"
          ],
          "name": "stdout"
        }
      ]
    },
    {
      "cell_type": "code",
      "metadata": {
        "id": "H_oaTACAOldb",
        "colab_type": "code",
        "colab": {}
      },
      "source": [
        "lsa_50_x_train, lsa_50_x_test, lsa_50_y_train, lsa_50_y_test = train_test_split(tf_idf_lsa_50_median, \n",
        "                                                                    target,\n",
        "                                                                    test_size=0.2,\n",
        "                                                                    random_state=SEED,\n",
        "                                                                    stratify=target)"
      ],
      "execution_count": 0,
      "outputs": []
    },
    {
      "cell_type": "code",
      "metadata": {
        "colab_type": "code",
        "outputId": "f0d3028f-821a-4325-c697-0b79dc81c942",
        "id": "XdE8pDh2-sgZ",
        "colab": {
          "base_uri": "https://localhost:8080/",
          "height": 221
        }
      },
      "source": [
        "%%time\n",
        "lsa_50_logreg_model = LogisticRegressionCV(Cs=[10, 1, 0.1], cv=3, penalty='l2', \n",
        "                             multi_class='multinomial', max_iter = 100,\n",
        "                             scoring='f1_macro', n_jobs=-1, verbose=True, random_state=SEED)\n",
        "lsa_50_logreg_model.fit(lsa_50_x_train, lsa_50_y_train)"
      ],
      "execution_count": 0,
      "outputs": [
        {
          "output_type": "stream",
          "text": [
            "[Parallel(n_jobs=-1)]: Using backend LokyBackend with 2 concurrent workers.\n",
            "[Parallel(n_jobs=-1)]: Done   3 out of   3 | elapsed:  7.3min finished\n"
          ],
          "name": "stderr"
        },
        {
          "output_type": "stream",
          "text": [
            "CPU times: user 2min 50s, sys: 5.32 s, total: 2min 55s\n",
            "Wall time: 8min 44s\n"
          ],
          "name": "stdout"
        },
        {
          "output_type": "stream",
          "text": [
            "/usr/local/lib/python3.6/dist-packages/sklearn/linear_model/_logistic.py:940: ConvergenceWarning: lbfgs failed to converge (status=1):\n",
            "STOP: TOTAL NO. of ITERATIONS REACHED LIMIT.\n",
            "\n",
            "Increase the number of iterations (max_iter) or scale the data as shown in:\n",
            "    https://scikit-learn.org/stable/modules/preprocessing.html\n",
            "Please also refer to the documentation for alternative solver options:\n",
            "    https://scikit-learn.org/stable/modules/linear_model.html#logistic-regression\n",
            "  extra_warning_msg=_LOGISTIC_SOLVER_CONVERGENCE_MSG)\n"
          ],
          "name": "stderr"
        }
      ]
    },
    {
      "cell_type": "code",
      "metadata": {
        "id": "dgNHM6YlVi2D",
        "colab_type": "code",
        "colab": {}
      },
      "source": [
        "def print_metrics(true, pred):\n",
        "  acc = metrics.accuracy_score(true, pred)\n",
        "  f1 = metrics.f1_score(true, pred, average='macro', zero_division=1)\n",
        "  prec = metrics.precision_score(true, pred, average='macro', zero_division=1)\n",
        "  rec = metrics.recall_score(true, pred, average='macro', zero_division=1)\n",
        "  IoU = metrics.jaccard_score(true, pred, average='macro')\n",
        "  print(f\"accuracy:\\t\\t{acc}\")\n",
        "  print(f\"f1-score macro:\\t\\t{f1}\")\n",
        "  print(f\"precision macro:\\t{prec}\")\n",
        "  print(f\"recall macro:\\t\\t{rec}\")\n",
        "  print(f\"jaccard macro:\\t\\t{IoU}\")\n",
        "  return acc, f1, prec, rec, IoU"
      ],
      "execution_count": 0,
      "outputs": []
    },
    {
      "cell_type": "code",
      "metadata": {
        "colab_type": "code",
        "outputId": "ab34c8c7-3092-4166-b082-28175a04ccbd",
        "id": "6pKAwDVw-sgn",
        "colab": {
          "base_uri": "https://localhost:8080/",
          "height": 102
        }
      },
      "source": [
        "lsa_50_y_pred = lsa_50_logreg_model.predict(lsa_50_x_test)\n",
        "lsa_50_1st_res = print_metrics(lsa_50_y_test, lsa_50_y_pred)"
      ],
      "execution_count": 0,
      "outputs": [
        {
          "output_type": "stream",
          "text": [
            "accuracy:\t\t0.9132264529058116\n",
            "f1-score macro:\t\t0.4145349321274522\n",
            "precision macro:\t0.7033169477569376\n",
            "recall macro:\t\t0.39292263959617824\n",
            "jaccard macro:\t\t0.3631683895097094\n"
          ],
          "name": "stdout"
        }
      ]
    },
    {
      "cell_type": "markdown",
      "metadata": {
        "id": "-aRUmnIQWu6U",
        "colab_type": "text"
      },
      "source": [
        "## test on vectorized 50k on the 2d level  (19 classes)"
      ]
    },
    {
      "cell_type": "code",
      "metadata": {
        "id": "Ly2__KeeWuIc",
        "colab_type": "code",
        "colab": {}
      },
      "source": [
        "target = tgt_50.concat_2.values"
      ],
      "execution_count": 0,
      "outputs": []
    },
    {
      "cell_type": "code",
      "metadata": {
        "colab_type": "code",
        "id": "wpU_68jiXEvW",
        "colab": {}
      },
      "source": [
        "lsa_50_x_train, lsa_50_x_test, lsa_50_y_train, lsa_50_y_test = train_test_split(tf_idf_lsa_50_median, \n",
        "                                                                    target,\n",
        "                                                                    test_size=0.2,\n",
        "                                                                    random_state=SEED,\n",
        "                                                                    stratify=target)"
      ],
      "execution_count": 0,
      "outputs": []
    },
    {
      "cell_type": "code",
      "metadata": {
        "colab_type": "code",
        "outputId": "91bf3e5c-de20-4b70-c2e9-ffedf86f8938",
        "id": "uqM0YDHgXEvs",
        "colab": {
          "base_uri": "https://localhost:8080/",
          "height": 221
        }
      },
      "source": [
        "%%time\n",
        "lsa_50_logreg_model = LogisticRegressionCV(Cs=[10, 1, 0.1], cv=3, penalty='l2', \n",
        "                             multi_class='multinomial', max_iter = 100,\n",
        "                             scoring='f1_macro', n_jobs=-1, verbose=True, random_state=SEED)\n",
        "lsa_50_logreg_model.fit(lsa_50_x_train, lsa_50_y_train)"
      ],
      "execution_count": 0,
      "outputs": [
        {
          "output_type": "stream",
          "text": [
            "[Parallel(n_jobs=-1)]: Using backend LokyBackend with 2 concurrent workers.\n",
            "[Parallel(n_jobs=-1)]: Done   3 out of   3 | elapsed: 11.0min finished\n"
          ],
          "name": "stderr"
        },
        {
          "output_type": "stream",
          "text": [
            "CPU times: user 3min 54s, sys: 11.8 s, total: 4min 6s\n",
            "Wall time: 13min 5s\n"
          ],
          "name": "stdout"
        },
        {
          "output_type": "stream",
          "text": [
            "/usr/local/lib/python3.6/dist-packages/sklearn/linear_model/_logistic.py:940: ConvergenceWarning: lbfgs failed to converge (status=1):\n",
            "STOP: TOTAL NO. of ITERATIONS REACHED LIMIT.\n",
            "\n",
            "Increase the number of iterations (max_iter) or scale the data as shown in:\n",
            "    https://scikit-learn.org/stable/modules/preprocessing.html\n",
            "Please also refer to the documentation for alternative solver options:\n",
            "    https://scikit-learn.org/stable/modules/linear_model.html#logistic-regression\n",
            "  extra_warning_msg=_LOGISTIC_SOLVER_CONVERGENCE_MSG)\n"
          ],
          "name": "stderr"
        }
      ]
    },
    {
      "cell_type": "code",
      "metadata": {
        "colab_type": "code",
        "id": "FSkWk5aZXEv6",
        "outputId": "74179900-1c3e-4694-e427-c49013a4faf3",
        "colab": {
          "base_uri": "https://localhost:8080/",
          "height": 102
        }
      },
      "source": [
        "lsa_50_y_pred = lsa_50_logreg_model.predict(lsa_50_x_test)\n",
        "lsa_50_2d_res = print_metrics(lsa_50_y_test, lsa_50_y_pred)"
      ],
      "execution_count": 0,
      "outputs": [
        {
          "output_type": "stream",
          "text": [
            "accuracy:\t\t0.6292585170340681\n",
            "f1-score macro:\t\t0.09960147951949605\n",
            "precision macro:\t0.7082666773889406\n",
            "recall macro:\t\t0.10083643006329301\n",
            "jaccard macro:\t\t0.06875737795521948\n"
          ],
          "name": "stdout"
        }
      ]
    },
    {
      "cell_type": "markdown",
      "metadata": {
        "id": "c8X5gFozYLpb",
        "colab_type": "text"
      },
      "source": [
        "## test on 300k NA distribution 1st level (4 classes)"
      ]
    },
    {
      "cell_type": "code",
      "metadata": {
        "id": "T5zI58wRZtTU",
        "colab_type": "code",
        "colab": {}
      },
      "source": [
        "na_dist = pd.read_csv('/content/drive/My Drive/job/Data/na_dist.csv', index_col=0)\n",
        "tgt_na = na_dist[['Основной диагноз']]\n",
        "na_dist = na_dist.drop(['Основной диагноз'], axis=1)"
      ],
      "execution_count": 0,
      "outputs": []
    },
    {
      "cell_type": "code",
      "metadata": {
        "id": "CeBvMpQIaO2G",
        "colab_type": "code",
        "outputId": "b2dd1ee4-50b9-4d55-9587-3a797a22f2e0",
        "colab": {
          "base_uri": "https://localhost:8080/",
          "height": 252
        }
      },
      "source": [
        "start = time.time()\n",
        "tgt_na[['letter', 'number', 'digit', 'text']] = tgt_na['Основной диагноз'].apply(process_code)\n",
        "tgt_na = tgt_na[['letter', 'number', 'digit']]\n",
        "print(f\"elapsed: {time.time() - start}\")\n",
        "tgt_na.tail()"
      ],
      "execution_count": 0,
      "outputs": [
        {
          "output_type": "stream",
          "text": [
            "elapsed: 73.59701299667358\n"
          ],
          "name": "stdout"
        },
        {
          "output_type": "execute_result",
          "data": {
            "text/html": [
              "<div>\n",
              "<style scoped>\n",
              "    .dataframe tbody tr th:only-of-type {\n",
              "        vertical-align: middle;\n",
              "    }\n",
              "\n",
              "    .dataframe tbody tr th {\n",
              "        vertical-align: top;\n",
              "    }\n",
              "\n",
              "    .dataframe thead th {\n",
              "        text-align: right;\n",
              "    }\n",
              "</style>\n",
              "<table border=\"1\" class=\"dataframe\">\n",
              "  <thead>\n",
              "    <tr style=\"text-align: right;\">\n",
              "      <th></th>\n",
              "      <th>letter</th>\n",
              "      <th>number</th>\n",
              "      <th>digit</th>\n",
              "    </tr>\n",
              "    <tr>\n",
              "      <th>ID_EMIAS</th>\n",
              "      <th></th>\n",
              "      <th></th>\n",
              "      <th></th>\n",
              "    </tr>\n",
              "  </thead>\n",
              "  <tbody>\n",
              "    <tr>\n",
              "      <th>10155733</th>\n",
              "      <td>I</td>\n",
              "      <td>11</td>\n",
              "      <td>9</td>\n",
              "    </tr>\n",
              "    <tr>\n",
              "      <th>25156077</th>\n",
              "      <td>I</td>\n",
              "      <td>11</td>\n",
              "      <td>9</td>\n",
              "    </tr>\n",
              "    <tr>\n",
              "      <th>21367207</th>\n",
              "      <td>J</td>\n",
              "      <td>18</td>\n",
              "      <td>9</td>\n",
              "    </tr>\n",
              "    <tr>\n",
              "      <th>18992013</th>\n",
              "      <td>J</td>\n",
              "      <td>45</td>\n",
              "      <td>0</td>\n",
              "    </tr>\n",
              "    <tr>\n",
              "      <th>16993087</th>\n",
              "      <td>I</td>\n",
              "      <td>20</td>\n",
              "      <td>8</td>\n",
              "    </tr>\n",
              "  </tbody>\n",
              "</table>\n",
              "</div>"
            ],
            "text/plain": [
              "         letter  number  digit\n",
              "ID_EMIAS                      \n",
              "10155733      I      11      9\n",
              "25156077      I      11      9\n",
              "21367207      J      18      9\n",
              "18992013      J      45      0\n",
              "16993087      I      20      8"
            ]
          },
          "metadata": {
            "tags": []
          },
          "execution_count": 119
        }
      ]
    },
    {
      "cell_type": "code",
      "metadata": {
        "id": "tyxjiGGmaFyo",
        "colab_type": "code",
        "outputId": "7a15499e-334b-4781-ef5c-699b71485e27",
        "colab": {
          "base_uri": "https://localhost:8080/",
          "height": 473
        }
      },
      "source": [
        "%time\n",
        "le = LabelEncoder()\n",
        "tgt_na['letter'] = le.fit_transform(tgt_na['letter'].values)\n",
        "tgt_na['concat_code'] = tgt_na[['letter', 'number', 'digit']].apply(lambda xs: int(''.join([str(x) for x in xs])), axis=1)\n",
        "tgt_na['concat_2'] = tgt_na[['letter', 'number']].apply(lambda xs: int(''.join([str(x) for x in xs])), axis=1)\n",
        "tgt_na.tail()"
      ],
      "execution_count": 0,
      "outputs": [
        {
          "output_type": "stream",
          "text": [
            "CPU times: user 3 µs, sys: 0 ns, total: 3 µs\n",
            "Wall time: 6.91 µs\n"
          ],
          "name": "stdout"
        },
        {
          "output_type": "stream",
          "text": [
            "/usr/local/lib/python3.6/dist-packages/ipykernel_launcher.py:3: SettingWithCopyWarning: \n",
            "A value is trying to be set on a copy of a slice from a DataFrame.\n",
            "Try using .loc[row_indexer,col_indexer] = value instead\n",
            "\n",
            "See the caveats in the documentation: https://pandas.pydata.org/pandas-docs/stable/user_guide/indexing.html#returning-a-view-versus-a-copy\n",
            "  This is separate from the ipykernel package so we can avoid doing imports until\n",
            "/usr/local/lib/python3.6/dist-packages/ipykernel_launcher.py:4: SettingWithCopyWarning: \n",
            "A value is trying to be set on a copy of a slice from a DataFrame.\n",
            "Try using .loc[row_indexer,col_indexer] = value instead\n",
            "\n",
            "See the caveats in the documentation: https://pandas.pydata.org/pandas-docs/stable/user_guide/indexing.html#returning-a-view-versus-a-copy\n",
            "  after removing the cwd from sys.path.\n"
          ],
          "name": "stderr"
        },
        {
          "output_type": "execute_result",
          "data": {
            "text/html": [
              "<div>\n",
              "<style scoped>\n",
              "    .dataframe tbody tr th:only-of-type {\n",
              "        vertical-align: middle;\n",
              "    }\n",
              "\n",
              "    .dataframe tbody tr th {\n",
              "        vertical-align: top;\n",
              "    }\n",
              "\n",
              "    .dataframe thead th {\n",
              "        text-align: right;\n",
              "    }\n",
              "</style>\n",
              "<table border=\"1\" class=\"dataframe\">\n",
              "  <thead>\n",
              "    <tr style=\"text-align: right;\">\n",
              "      <th></th>\n",
              "      <th>letter</th>\n",
              "      <th>number</th>\n",
              "      <th>digit</th>\n",
              "      <th>concat_code</th>\n",
              "      <th>concat_2</th>\n",
              "    </tr>\n",
              "    <tr>\n",
              "      <th>ID_EMIAS</th>\n",
              "      <th></th>\n",
              "      <th></th>\n",
              "      <th></th>\n",
              "      <th></th>\n",
              "      <th></th>\n",
              "    </tr>\n",
              "  </thead>\n",
              "  <tbody>\n",
              "    <tr>\n",
              "      <th>10155733</th>\n",
              "      <td>2</td>\n",
              "      <td>11</td>\n",
              "      <td>9</td>\n",
              "      <td>2119</td>\n",
              "      <td>211</td>\n",
              "    </tr>\n",
              "    <tr>\n",
              "      <th>25156077</th>\n",
              "      <td>2</td>\n",
              "      <td>11</td>\n",
              "      <td>9</td>\n",
              "      <td>2119</td>\n",
              "      <td>211</td>\n",
              "    </tr>\n",
              "    <tr>\n",
              "      <th>21367207</th>\n",
              "      <td>3</td>\n",
              "      <td>18</td>\n",
              "      <td>9</td>\n",
              "      <td>3189</td>\n",
              "      <td>318</td>\n",
              "    </tr>\n",
              "    <tr>\n",
              "      <th>18992013</th>\n",
              "      <td>3</td>\n",
              "      <td>45</td>\n",
              "      <td>0</td>\n",
              "      <td>3450</td>\n",
              "      <td>345</td>\n",
              "    </tr>\n",
              "    <tr>\n",
              "      <th>16993087</th>\n",
              "      <td>2</td>\n",
              "      <td>20</td>\n",
              "      <td>8</td>\n",
              "      <td>2208</td>\n",
              "      <td>220</td>\n",
              "    </tr>\n",
              "  </tbody>\n",
              "</table>\n",
              "</div>"
            ],
            "text/plain": [
              "          letter  number  digit  concat_code  concat_2\n",
              "ID_EMIAS                                              \n",
              "10155733       2      11      9         2119       211\n",
              "25156077       2      11      9         2119       211\n",
              "21367207       3      18      9         3189       318\n",
              "18992013       3      45      0         3450       345\n",
              "16993087       2      20      8         2208       220"
            ]
          },
          "metadata": {
            "tags": []
          },
          "execution_count": 120
        }
      ]
    },
    {
      "cell_type": "code",
      "metadata": {
        "id": "tWkgr5HoaWkq",
        "colab_type": "code",
        "outputId": "8fbb012d-3b08-41b9-b207-30eb4574d87d",
        "colab": {
          "base_uri": "https://localhost:8080/",
          "height": 119
        }
      },
      "source": [
        "tgt_na.apply(lambda column: len(np.unique(column.values)), axis=0)"
      ],
      "execution_count": 0,
      "outputs": [
        {
          "output_type": "execute_result",
          "data": {
            "text/plain": [
              "letter          4\n",
              "number         19\n",
              "digit           9\n",
              "concat_code    69\n",
              "concat_2       20\n",
              "dtype: int64"
            ]
          },
          "metadata": {
            "tags": []
          },
          "execution_count": 121
        }
      ]
    },
    {
      "cell_type": "code",
      "metadata": {
        "id": "iwDtm31-apE_",
        "colab_type": "code",
        "colab": {}
      },
      "source": [
        "target_na = tgt_na.letter.values"
      ],
      "execution_count": 0,
      "outputs": []
    },
    {
      "cell_type": "code",
      "metadata": {
        "colab_type": "code",
        "id": "viOX10_zah8P",
        "colab": {}
      },
      "source": [
        "na_x_train, na_x_test, na_y_train, na_y_test = train_test_split(na_dist, \n",
        "                                                                target_na,\n",
        "                                                                test_size=0.2,\n",
        "                                                                random_state=SEED,\n",
        "                                                                stratify=target_na)"
      ],
      "execution_count": 0,
      "outputs": []
    },
    {
      "cell_type": "code",
      "metadata": {
        "colab_type": "code",
        "outputId": "d064b4c1-9c42-4158-f5f5-353dd4027a86",
        "id": "g7PubbbMah8n",
        "colab": {
          "base_uri": "https://localhost:8080/",
          "height": 221
        }
      },
      "source": [
        "%%time\n",
        "na_logreg_model = LogisticRegressionCV(Cs=[10, 1, 0.1], cv=3, penalty='l2', \n",
        "                             multi_class='multinomial', max_iter = 100,\n",
        "                             scoring='f1_macro', n_jobs=-1, verbose=True, random_state=SEED)\n",
        "na_logreg_model.fit(na_x_train, na_y_train)"
      ],
      "execution_count": 0,
      "outputs": [
        {
          "output_type": "stream",
          "text": [
            "[Parallel(n_jobs=-1)]: Using backend LokyBackend with 2 concurrent workers.\n",
            "[Parallel(n_jobs=-1)]: Done   3 out of   3 | elapsed:  1.8min finished\n"
          ],
          "name": "stderr"
        },
        {
          "output_type": "stream",
          "text": [
            "CPU times: user 37.1 s, sys: 13.5 s, total: 50.7 s\n",
            "Wall time: 2min 11s\n"
          ],
          "name": "stdout"
        },
        {
          "output_type": "stream",
          "text": [
            "/usr/local/lib/python3.6/dist-packages/sklearn/linear_model/_logistic.py:940: ConvergenceWarning: lbfgs failed to converge (status=1):\n",
            "STOP: TOTAL NO. of ITERATIONS REACHED LIMIT.\n",
            "\n",
            "Increase the number of iterations (max_iter) or scale the data as shown in:\n",
            "    https://scikit-learn.org/stable/modules/preprocessing.html\n",
            "Please also refer to the documentation for alternative solver options:\n",
            "    https://scikit-learn.org/stable/modules/linear_model.html#logistic-regression\n",
            "  extra_warning_msg=_LOGISTIC_SOLVER_CONVERGENCE_MSG)\n"
          ],
          "name": "stderr"
        }
      ]
    },
    {
      "cell_type": "code",
      "metadata": {
        "id": "Bk8QmWLGakxJ",
        "colab_type": "code",
        "outputId": "8891cdf8-5f74-4c7a-fae7-cd9d9f41cd3d",
        "colab": {
          "base_uri": "https://localhost:8080/",
          "height": 102
        }
      },
      "source": [
        "na_y_pred = na_logreg_model.predict(na_x_test)\n",
        "na_1st_res = print_metrics(na_y_test, na_y_pred)"
      ],
      "execution_count": 0,
      "outputs": [
        {
          "output_type": "stream",
          "text": [
            "accuracy:\t\t0.847983870967742\n",
            "f1-score macro:\t\t0.38853067931521945\n",
            "precision macro:\t0.9210724644095734\n",
            "recall macro:\t\t0.37458722095739605\n",
            "jaccard macro:\t\t0.32678575566699447\n"
          ],
          "name": "stdout"
        }
      ]
    },
    {
      "cell_type": "markdown",
      "metadata": {
        "id": "gOIc8y1ocnH2",
        "colab_type": "text"
      },
      "source": [
        "## test on 300k NA distribution 2d level (20 classes)"
      ]
    },
    {
      "cell_type": "code",
      "metadata": {
        "colab_type": "code",
        "id": "4iCzb_M0cz5h",
        "colab": {}
      },
      "source": [
        "target_na = tgt_na.concat_2.values"
      ],
      "execution_count": 0,
      "outputs": []
    },
    {
      "cell_type": "code",
      "metadata": {
        "colab_type": "code",
        "id": "Pc5__zWccz53",
        "colab": {}
      },
      "source": [
        "na_x_train, na_x_test, na_y_train, na_y_test = train_test_split(na_dist, \n",
        "                                                                target_na,\n",
        "                                                                test_size=0.2,\n",
        "                                                                random_state=SEED,\n",
        "                                                                stratify=target_na)"
      ],
      "execution_count": 0,
      "outputs": []
    },
    {
      "cell_type": "code",
      "metadata": {
        "colab_type": "code",
        "outputId": "942857ee-1d8c-486c-def1-c98d9bbb873c",
        "id": "5VZU4Mlscz6E",
        "colab": {
          "base_uri": "https://localhost:8080/",
          "height": 255
        }
      },
      "source": [
        "%%time\n",
        "na_logreg_model = LogisticRegressionCV(Cs=[10, 1, 0.1], cv=3, penalty='l2', \n",
        "                             multi_class='multinomial', max_iter = 100,\n",
        "                             scoring='f1_macro', n_jobs=-1, verbose=True, random_state=SEED)\n",
        "na_logreg_model.fit(na_x_train, na_y_train)"
      ],
      "execution_count": 0,
      "outputs": [
        {
          "output_type": "stream",
          "text": [
            "[Parallel(n_jobs=-1)]: Using backend LokyBackend with 2 concurrent workers.\n",
            "/usr/local/lib/python3.6/dist-packages/joblib/externals/loky/process_executor.py:706: UserWarning: A worker stopped while some jobs were given to the executor. This can be caused by a too short worker timeout or by a memory leak.\n",
            "  \"timeout or by a memory leak.\", UserWarning\n",
            "[Parallel(n_jobs=-1)]: Done   3 out of   3 | elapsed:  4.2min finished\n"
          ],
          "name": "stderr"
        },
        {
          "output_type": "stream",
          "text": [
            "CPU times: user 1min 9s, sys: 15.8 s, total: 1min 25s\n",
            "Wall time: 5min 8s\n"
          ],
          "name": "stdout"
        },
        {
          "output_type": "stream",
          "text": [
            "/usr/local/lib/python3.6/dist-packages/sklearn/linear_model/_logistic.py:940: ConvergenceWarning: lbfgs failed to converge (status=1):\n",
            "STOP: TOTAL NO. of ITERATIONS REACHED LIMIT.\n",
            "\n",
            "Increase the number of iterations (max_iter) or scale the data as shown in:\n",
            "    https://scikit-learn.org/stable/modules/preprocessing.html\n",
            "Please also refer to the documentation for alternative solver options:\n",
            "    https://scikit-learn.org/stable/modules/linear_model.html#logistic-regression\n",
            "  extra_warning_msg=_LOGISTIC_SOLVER_CONVERGENCE_MSG)\n"
          ],
          "name": "stderr"
        }
      ]
    },
    {
      "cell_type": "code",
      "metadata": {
        "colab_type": "code",
        "id": "jEMCPqm2cz6W",
        "outputId": "9bca9efa-90ab-4cd8-ada0-cd0afea82613",
        "colab": {
          "base_uri": "https://localhost:8080/",
          "height": 102
        }
      },
      "source": [
        "na_y_pred = na_logreg_model.predict(na_x_test)\n",
        "na_2d_res = print_metrics(na_y_test, na_y_pred)"
      ],
      "execution_count": 0,
      "outputs": [
        {
          "output_type": "stream",
          "text": [
            "accuracy:\t\t0.5911458333333334\n",
            "f1-score macro:\t\t0.12293372868992022\n",
            "precision macro:\t0.6663858872711726\n",
            "recall macro:\t\t0.1146623046980757\n",
            "jaccard macro:\t\t0.0811446596539939\n"
          ],
          "name": "stdout"
        }
      ]
    },
    {
      "cell_type": "markdown",
      "metadata": {
        "id": "NM4469pHO43j",
        "colab_type": "text"
      },
      "source": [
        "# Organize hierarchical prediction\n"
      ]
    },
    {
      "cell_type": "markdown",
      "metadata": {
        "id": "JYHrdrGpjDk_",
        "colab_type": "text"
      },
      "source": [
        "log reg probas"
      ]
    },
    {
      "cell_type": "code",
      "metadata": {
        "id": "WrWHYBk4cePs",
        "colab_type": "code",
        "colab": {}
      },
      "source": [
        "from sklearn.datasets import load_iris\n",
        "from sklearn.linear_model import LogisticRegression\n",
        "X, y = load_iris(return_X_y=True)\n",
        "clf = LogisticRegression(random_state=0).fit(X, y)\n",
        "clf.predict(X[:2, :])\n",
        "# array([0, 0])\n",
        "clf.predict_proba(X[:2, :])\n",
        "# array([[9.8...e-01, 1.8...e-02, 1.4...e-08],\n",
        "#        [9.7...e-01, 2.8...e-02, ...e-08]])\n",
        "clf.predict_log_proba(X[:2, :])\n",
        "clf.decision_function(X[:2, :])\n",
        "clf.score(X, y)\n",
        "# 0.97...\n",
        "clf.classes_"
      ],
      "execution_count": 0,
      "outputs": []
    },
    {
      "cell_type": "markdown",
      "metadata": {
        "id": "4aTytcBZvL1s",
        "colab_type": "text"
      },
      "source": [
        "1. **it's important to store data sorted by the 4-digit code so that the training chuncs are alwasy close together**\n",
        "\n",
        "2. **it's important when fitting to train models by ordered keys in dict, not just by random keys, for the same reason**"
      ]
    },
    {
      "cell_type": "markdown",
      "metadata": {
        "id": "aJJlaiIadBEe",
        "colab_type": "text"
      },
      "source": [
        "##  architectural choices\n",
        "\n",
        "- probas or log probas\n",
        "- how do we treat NaNs in data\n",
        "- how do we treat NaNs in tgt\n",
        "  - modify and apply concat_code function\n",
        "  - we can only have NaNs after some level and down, not ```level_1 = 1, level_2 = np.nan, level_3 = 3```\n",
        "- **think how class imbalance influences probabilities of classes**\n",
        "- how we define training hyperparameters"
      ]
    },
    {
      "cell_type": "code",
      "metadata": {
        "id": "Mj_5oWLDyXaa",
        "colab_type": "code",
        "colab": {}
      },
      "source": [
        "def concat_code(levels, concat_all=False):\n",
        "  if type(levels) == pd.core.series.Series:\n",
        "    index = levels.name\n",
        "    levels = list(levels)\n",
        "  if pd.isnull(levels[0]):   ## check that level_1 has no NaNs\n",
        "    raise ValueError('The first level cannot be NaN.')\n",
        "  str_levels = []\n",
        "  for i, level in enumerate(levels):\n",
        "    if type(level) == str and level.isdigit():\n",
        "      str_levels.append(level)\n",
        "    if type(level) == int:\n",
        "      str_levels.append(str(level))\n",
        "    if type(level) == float:\n",
        "      if not pd.isnull(level):\n",
        "        str_levels.append(str(int(level)))\n",
        "      else:\n",
        "      ## check that if level_x contains NaN for a given id, all level_x+m should also be NaN for this id\n",
        "        if not all(pd.isnull(el) for el in levels[i:]):\n",
        "          if index:\n",
        "            index_str = f' The error occured at id {index}.'\n",
        "          else:\n",
        "            index_str = ''\n",
        "          raise ValueError('A non-NaN value encounteres after the first NaN value. All values after a NaN level must be NaN.' + index_str)\n",
        "        break\n",
        "  if concat_all:\n",
        "    return [int(''.join(str_levels))] * (len(levels) - len(str_levels)) + [int(''.join(str_levels[:i + 1])) for i in range(len(str_levels))][::-1]\n",
        "  return int(''.join(str_levels))"
      ],
      "execution_count": 0,
      "outputs": []
    },
    {
      "cell_type": "code",
      "metadata": {
        "id": "yDYk9x9_DTA0",
        "colab_type": "code",
        "colab": {
          "base_uri": "https://localhost:8080/",
          "height": 34
        },
        "outputId": "d385e56e-12d2-4311-d41a-13a3b19c7145"
      },
      "source": [
        "concat_code(['1', 1, '00', 1.0, 32, np.nan, np.nan, np.nan])"
      ],
      "execution_count": 329,
      "outputs": [
        {
          "output_type": "execute_result",
          "data": {
            "text/plain": [
              "1100132"
            ]
          },
          "metadata": {
            "tags": []
          },
          "execution_count": 329
        }
      ]
    },
    {
      "cell_type": "code",
      "metadata": {
        "id": "6S19Z-Ga0gTR",
        "colab_type": "code",
        "colab": {
          "base_uri": "https://localhost:8080/",
          "height": 34
        },
        "outputId": "6dd789c1-820e-4dbc-b838-a8f6b0781f67"
      },
      "source": [
        "concat_code(['1', 1, '00', 1.0, 32, np.nan, np.nan, np.nan], concat_all=True)"
      ],
      "execution_count": 330,
      "outputs": [
        {
          "output_type": "execute_result",
          "data": {
            "text/plain": [
              "[1100132, 1100132, 1100132, 1100132, 11001, 1100, 11, 1]"
            ]
          },
          "metadata": {
            "tags": []
          },
          "execution_count": 330
        }
      ]
    },
    {
      "cell_type": "code",
      "metadata": {
        "id": "J-ytwucT2GoJ",
        "colab_type": "code",
        "colab": {
          "base_uri": "https://localhost:8080/",
          "height": 238
        },
        "outputId": "80b05134-b253-416e-dacb-9ce433b47770"
      },
      "source": [
        "tgt_50[['letter', 'number', 'digit']].apply(concat_code, axis=1, concat_all=True)"
      ],
      "execution_count": 331,
      "outputs": [
        {
          "output_type": "execute_result",
          "data": {
            "text/plain": [
              "ID_EMIAS\n",
              "217         [2119, 211, 2]\n",
              "667         [2119, 211, 2]\n",
              "858         [2251, 225, 2]\n",
              "982         [2251, 225, 2]\n",
              "1158        [3458, 345, 3]\n",
              "                 ...      \n",
              "16211073    [2119, 211, 2]\n",
              "16211102    [3041, 304, 3]\n",
              "16211112    [2119, 211, 2]\n",
              "16211116    [3209, 320, 3]\n",
              "16211117    [3458, 345, 3]\n",
              "Length: 49899, dtype: object"
            ]
          },
          "metadata": {
            "tags": []
          },
          "execution_count": 331
        }
      ]
    },
    {
      "cell_type": "code",
      "metadata": {
        "id": "sVOenFLpDF_E",
        "colab_type": "code",
        "colab": {}
      },
      "source": [
        "def build_codes(target_df):\n",
        "  \"\"\"\n",
        "  adds combinations of codes given codes df\n",
        "  \"\"\"\n",
        "  ## check that level_1 has no NaNs\n",
        "  levels = list(target_df.columns)\n",
        "  first_level_na = target_df[levels[0]].isnull()\n",
        "  if any(first_level_na):\n",
        "    raise ValueError(f'The first level cannot be NaN, but found NaN at id(s) {np.where(first_level_na)[0]}')\n",
        "  concat_levels = [f'concat_{i}' for i in range(len(levels), 0, -1)]\n",
        "  target_df[concat_levels] = target_df.apply(lambda row: pd.Series((concat_code(row, concat_all=True))), axis=1)\n",
        "  return target_df.sort_values(concat_levels[0])"
      ],
      "execution_count": 0,
      "outputs": []
    },
    {
      "cell_type": "code",
      "metadata": {
        "id": "6w_c6bf-GC1m",
        "colab_type": "code",
        "colab": {
          "base_uri": "https://localhost:8080/",
          "height": 142
        },
        "outputId": "a177d754-aac8-4f78-aebf-c4fd8c40324d"
      },
      "source": [
        "ex_df = pd.DataFrame([[1, '00', \"2\", '3'], [1, 2, np.nan, np.nan], ['23', 2, 0, np.nan]], columns = [1, 2, 3, 4])\n",
        "build_codes(ex_df) \n"
      ],
      "execution_count": 333,
      "outputs": [
        {
          "output_type": "execute_result",
          "data": {
            "text/html": [
              "<div>\n",
              "<style scoped>\n",
              "    .dataframe tbody tr th:only-of-type {\n",
              "        vertical-align: middle;\n",
              "    }\n",
              "\n",
              "    .dataframe tbody tr th {\n",
              "        vertical-align: top;\n",
              "    }\n",
              "\n",
              "    .dataframe thead th {\n",
              "        text-align: right;\n",
              "    }\n",
              "</style>\n",
              "<table border=\"1\" class=\"dataframe\">\n",
              "  <thead>\n",
              "    <tr style=\"text-align: right;\">\n",
              "      <th></th>\n",
              "      <th>1</th>\n",
              "      <th>2</th>\n",
              "      <th>3</th>\n",
              "      <th>4</th>\n",
              "      <th>concat_4</th>\n",
              "      <th>concat_3</th>\n",
              "      <th>concat_2</th>\n",
              "      <th>concat_1</th>\n",
              "    </tr>\n",
              "  </thead>\n",
              "  <tbody>\n",
              "    <tr>\n",
              "      <th>1</th>\n",
              "      <td>1</td>\n",
              "      <td>2</td>\n",
              "      <td>NaN</td>\n",
              "      <td>NaN</td>\n",
              "      <td>12</td>\n",
              "      <td>12</td>\n",
              "      <td>12</td>\n",
              "      <td>1</td>\n",
              "    </tr>\n",
              "    <tr>\n",
              "      <th>2</th>\n",
              "      <td>23</td>\n",
              "      <td>2</td>\n",
              "      <td>0</td>\n",
              "      <td>NaN</td>\n",
              "      <td>2320</td>\n",
              "      <td>2320</td>\n",
              "      <td>232</td>\n",
              "      <td>23</td>\n",
              "    </tr>\n",
              "    <tr>\n",
              "      <th>0</th>\n",
              "      <td>1</td>\n",
              "      <td>00</td>\n",
              "      <td>2</td>\n",
              "      <td>3</td>\n",
              "      <td>10023</td>\n",
              "      <td>1002</td>\n",
              "      <td>100</td>\n",
              "      <td>1</td>\n",
              "    </tr>\n",
              "  </tbody>\n",
              "</table>\n",
              "</div>"
            ],
            "text/plain": [
              "    1   2    3    4  concat_4  concat_3  concat_2  concat_1\n",
              "1   1   2  NaN  NaN        12        12        12         1\n",
              "2  23   2    0  NaN      2320      2320       232        23\n",
              "0   1  00    2    3     10023      1002       100         1"
            ]
          },
          "metadata": {
            "tags": []
          },
          "execution_count": 333
        }
      ]
    },
    {
      "cell_type": "code",
      "metadata": {
        "id": "VKzLObVLejz7",
        "colab_type": "code",
        "colab": {
          "base_uri": "https://localhost:8080/",
          "height": 235
        },
        "outputId": "d7a3b680-f396-4068-9d0e-585db54926cc"
      },
      "source": [
        "test_tgt_50 = tgt_50[['letter',\t'number',\t'digit'\t]].copy()\n",
        "test_tgt_50.columns = ['level_1', 'level_2', 'level_3']\n",
        "test_tgt_50 = build_codes(test_tgt_50)\n",
        "test_tgt_50.tail()"
      ],
      "execution_count": 347,
      "outputs": [
        {
          "output_type": "execute_result",
          "data": {
            "text/html": [
              "<div>\n",
              "<style scoped>\n",
              "    .dataframe tbody tr th:only-of-type {\n",
              "        vertical-align: middle;\n",
              "    }\n",
              "\n",
              "    .dataframe tbody tr th {\n",
              "        vertical-align: top;\n",
              "    }\n",
              "\n",
              "    .dataframe thead th {\n",
              "        text-align: right;\n",
              "    }\n",
              "</style>\n",
              "<table border=\"1\" class=\"dataframe\">\n",
              "  <thead>\n",
              "    <tr style=\"text-align: right;\">\n",
              "      <th></th>\n",
              "      <th>level_1</th>\n",
              "      <th>level_2</th>\n",
              "      <th>level_3</th>\n",
              "      <th>concat_3</th>\n",
              "      <th>concat_2</th>\n",
              "      <th>concat_1</th>\n",
              "    </tr>\n",
              "    <tr>\n",
              "      <th>ID_EMIAS</th>\n",
              "      <th></th>\n",
              "      <th></th>\n",
              "      <th></th>\n",
              "      <th></th>\n",
              "      <th></th>\n",
              "      <th></th>\n",
              "    </tr>\n",
              "  </thead>\n",
              "  <tbody>\n",
              "    <tr>\n",
              "      <th>10843572</th>\n",
              "      <td>3</td>\n",
              "      <td>45</td>\n",
              "      <td>9.0</td>\n",
              "      <td>3459</td>\n",
              "      <td>345</td>\n",
              "      <td>3</td>\n",
              "    </tr>\n",
              "    <tr>\n",
              "      <th>16025401</th>\n",
              "      <td>3</td>\n",
              "      <td>45</td>\n",
              "      <td>9.0</td>\n",
              "      <td>3459</td>\n",
              "      <td>345</td>\n",
              "      <td>3</td>\n",
              "    </tr>\n",
              "    <tr>\n",
              "      <th>16155629</th>\n",
              "      <td>3</td>\n",
              "      <td>45</td>\n",
              "      <td>9.0</td>\n",
              "      <td>3459</td>\n",
              "      <td>345</td>\n",
              "      <td>3</td>\n",
              "    </tr>\n",
              "    <tr>\n",
              "      <th>10716225</th>\n",
              "      <td>3</td>\n",
              "      <td>45</td>\n",
              "      <td>9.0</td>\n",
              "      <td>3459</td>\n",
              "      <td>345</td>\n",
              "      <td>3</td>\n",
              "    </tr>\n",
              "    <tr>\n",
              "      <th>10488557</th>\n",
              "      <td>3</td>\n",
              "      <td>45</td>\n",
              "      <td>9.0</td>\n",
              "      <td>3459</td>\n",
              "      <td>345</td>\n",
              "      <td>3</td>\n",
              "    </tr>\n",
              "  </tbody>\n",
              "</table>\n",
              "</div>"
            ],
            "text/plain": [
              "          level_1 level_2  level_3  concat_3  concat_2  concat_1\n",
              "ID_EMIAS                                                        \n",
              "10843572        3      45      9.0      3459       345         3\n",
              "16025401        3      45      9.0      3459       345         3\n",
              "16155629        3      45      9.0      3459       345         3\n",
              "10716225        3      45      9.0      3459       345         3\n",
              "10488557        3      45      9.0      3459       345         3"
            ]
          },
          "metadata": {
            "tags": []
          },
          "execution_count": 347
        }
      ]
    },
    {
      "cell_type": "code",
      "metadata": {
        "id": "VlQNlmLPfqYO",
        "colab_type": "code",
        "colab": {}
      },
      "source": [
        "def build_ids(tgt):\n",
        "  ids = {}\n",
        "  levels = [col_name for col_name in tgt.columns if col_name.startswith('concat_')][::-1]  # ['concat_1', 'concat_2', 'concat_3']\n",
        "  for level in levels:\n",
        "    uniques = np.unique(tgt[level])\n",
        "    for code in uniques:\n",
        "      ids[code] = tgt[tgt[level] == code].index\n",
        "  return ids"
      ],
      "execution_count": 0,
      "outputs": []
    },
    {
      "cell_type": "code",
      "metadata": {
        "id": "0H-qnToJgghV",
        "colab_type": "code",
        "colab": {
          "base_uri": "https://localhost:8080/",
          "height": 289
        },
        "outputId": "d291d065-760e-4027-f8fe-4aa705379ed7"
      },
      "source": [
        "%time\n",
        "ids_ex = build_ids(test_tgt_50)\n",
        "ids_ex[0]"
      ],
      "execution_count": 411,
      "outputs": [
        {
          "output_type": "stream",
          "text": [
            "CPU times: user 5 µs, sys: 0 ns, total: 5 µs\n",
            "Wall time: 8.58 µs\n"
          ],
          "name": "stdout"
        },
        {
          "output_type": "execute_result",
          "data": {
            "text/plain": [
              "Int64Index([10731940, 10838738, 10285631, 10652887, 16010993, 10390350,\n",
              "            10657081, 10574950, 10738506, 10704005,    70239, 10663850,\n",
              "            10106928, 10338518, 10298224, 10248207, 10918193, 10830892,\n",
              "            10445821, 10647324, 10772864, 10323754, 10106356, 10122611,\n",
              "            10217439, 16064479, 16171534, 15943259, 10752059, 10183772,\n",
              "            10497504, 16161631, 10478130, 10181113, 10866362, 10670411,\n",
              "            16051349, 10155399, 10841955, 10235455, 10130747, 10188946,\n",
              "            16118064, 16050437, 10209399, 10353687, 10409473, 10113472,\n",
              "            10808593, 10181860, 10761020, 10874349, 10516810, 10571581,\n",
              "            10458145, 10783243, 10381444, 10596811, 16074359, 10854260,\n",
              "            10302724, 10133877, 10758286, 10306046, 16006712, 10881374,\n",
              "            16120545, 10186494, 15978508, 10106680, 10170033, 13785430,\n",
              "            10908115, 10836662],\n",
              "           dtype='int64', name='ID_EMIAS')"
            ]
          },
          "metadata": {
            "tags": []
          },
          "execution_count": 411
        }
      ]
    },
    {
      "cell_type": "code",
      "metadata": {
        "id": "SdXQ0_7TiK8A",
        "colab_type": "code",
        "colab": {
          "base_uri": "https://localhost:8080/",
          "height": 54
        },
        "outputId": "f71bf701-d7f2-431f-ab39-9df6082022f0"
      },
      "source": [
        "ids_ex.keys()"
      ],
      "execution_count": 412,
      "outputs": [
        {
          "output_type": "execute_result",
          "data": {
            "text/plain": [
              "dict_keys([0, 1, 2, 3, 78, 160, 165, 210, 211, 212, 213, 220, 225, 250, 300, 302, 304, 315, 318, 320, 335, 344, 345, 782, 785, 1608, 1609, 1650, 2110, 2119, 2120, 2139, 2201, 2208, 2209, 2250, 2251, 2252, 2258, 2259, 2500, 2509, 3029, 3041, 3042, 3159, 3180, 3181, 3189, 3206, 3208, 3209, 3350, 3441, 3448, 3449, 3450, 3451, 3458, 3459])"
            ]
          },
          "metadata": {
            "tags": []
          },
          "execution_count": 412
        }
      ]
    },
    {
      "cell_type": "code",
      "metadata": {
        "id": "rSkC2eJMuV2P",
        "colab_type": "code",
        "colab": {}
      },
      "source": [
        "ex_f = lambda df: {'x': len(df), 'y': len(df) * 2}"
      ],
      "execution_count": 0,
      "outputs": []
    },
    {
      "cell_type": "code",
      "metadata": {
        "id": "XPcC440auzoe",
        "colab_type": "code",
        "colab": {}
      },
      "source": [
        "def build_hypers(ids, data, f):\n",
        "    hypers = {}\n",
        "    for code in ids.keys():\n",
        "      hypers[code] = f(data.loc[ids[code]])\n",
        "    return hypers"
      ],
      "execution_count": 0,
      "outputs": []
    },
    {
      "cell_type": "code",
      "metadata": {
        "id": "QstHEyrDvbTY",
        "colab_type": "code",
        "colab": {
          "base_uri": "https://localhost:8080/",
          "height": 51
        },
        "outputId": "5708b636-b1bd-47a7-c9ec-2a41e7baa028"
      },
      "source": [
        "start = time.time()\n",
        "ex_hypers = build_hypers(ids_ex, tf_idf_lsa_50, ex_f)\n",
        "print(time.time() - start)\n",
        "print(ex_hypers[0], ex_hypers[2])"
      ],
      "execution_count": 420,
      "outputs": [
        {
          "output_type": "stream",
          "text": [
            "5.010737180709839\n",
            "{'x': 74, 'y': 148} {'x': 41016, 'y': 82032}\n"
          ],
          "name": "stdout"
        }
      ]
    },
    {
      "cell_type": "code",
      "metadata": {
        "id": "0NQYCLfTYq9j",
        "colab_type": "code",
        "colab": {}
      },
      "source": [
        "class hierarchical_model():\n",
        "  \"\"\"\n",
        "  creates a hierarchial model from data with hierarchical traget and model type\n",
        "\n",
        "  attributes:\n",
        "    - data: pd.DataFrame, of int and float, of shape (num_examples, num_features)\n",
        "    - tgt: pd.DataFrame, of int, float, or digits str; of shape (num_examples, 2 * num_levels - 1)\n",
        "          level_1, ..., level_n, concat_2, ..., concat_n\n",
        "    - model_c: class \n",
        "            class on __init__ taking data, tgt, {hyperparameters}, \n",
        "                          having fit and predict with probs\n",
        "    - hyper_f: pd.DataFrame -> dict {hyperparameters}\n",
        "    - ids: dict\n",
        "        keys: digit codes (num_levels)\n",
        "        values: indicies in data of this code - inidicies of the data chunk\n",
        "    - hypers: dict\n",
        "          keys: digit codes (num_levels)\n",
        "          values: hyperparams for this level based on func from the data chunk\n",
        "    - models: dict\n",
        "          keys: digit codes (num_levels)\n",
        "          values:  model for this level\n",
        "\n",
        "  methods:\n",
        "    - concat_codes (static)\n",
        "    - build_codes (static)\n",
        "    - build_ids\n",
        "    - build_hypers\n",
        "    - build_models\n",
        "    - fit\n",
        "    - predict \n",
        "  \"\"\"\n",
        "\n",
        "\n",
        "  def __init___(self, data_df, target_df, model_class, data_to_hyper_function):  ## what do we do with NaNs? some models cant work with them, some can\n",
        "    \"\"\"\n",
        "    :param data_df: pd.DataFrame, of int and float, of shape (num_examples, num_features)\n",
        "                    - cannot have duplicate ids\n",
        "    :param target_df:  pd.DataFrame, of int, float, or digits str; of shape (num_examples, num_levels)\n",
        "                      - ids of target_df & data_df should be identical\n",
        "                      - cannot have duplicate ids\n",
        "                      - order & names of columns: level_1, ..., level_n\n",
        "                      - level_1 cannot contain NaNs\n",
        "                      - if level_x contains NaN for a given id, all level_x+m should also be NaN for this id\n",
        "    :param model_class: class, on __init__ taking data, tgt, {hyperparameters}, \n",
        "                        having methods fit() and predict() or transform() with probabilities\n",
        "    :param data_to_hyper_function: function, pd.DataFrame -> dict of hyperparameters\n",
        "    \"\"\"\n",
        "    ## check data for duplicte ids\n",
        "    ## check tgt for duplicte ids\n",
        "    ## check thata tgt & data have the same ids\n",
        "    ## check that tgt and data have the same shape[0] num_examples\n",
        "    self.data = data_df  \n",
        "    self.tgt = target_df  ## build combined keys with concat code (modify for n length)\n",
        "    self.model_c = model_class\n",
        "    self.hyper_f = data_to_hyper_function\n",
        "    self.ids = {}\n",
        "    self.hypers = {}\n",
        "    self.models = {}\n",
        "\n",
        "  \n",
        "  @staticmethod\n",
        "  def concat_code(levels, concat_all=False):\n",
        "    \"\"\"\n",
        "    concatenates a list of digit str, int or float to an int, stops at first NaN\n",
        "\n",
        "    :param levels: lsit of digit str, int or float, levels to convert to int\n",
        "                   - fisrt level cannot be NaN\n",
        "                   - if level_x contains NaN for a given id, all level_x+m should also be NaN for this id\n",
        "    :param concat_all: bool; whether to return one long concat or concat on every level\n",
        "    :return: if concat_all: list of int; from the longest code, to the shortest code concat\n",
        "             else: int, concatenated code\n",
        "    \"\"\"\n",
        "    if type(levels) == pd.core.series.Series:\n",
        "      index = levels.name\n",
        "      levels = list(levels)\n",
        "    if pd.isnull(levels[0]):   ## check that level_1 has no NaNs\n",
        "      raise ValueError('The first level cannot be NaN.')\n",
        "    str_levels = []\n",
        "    for i, level in enumerate(levels):\n",
        "      if type(level) == str and level.isdigit():\n",
        "        str_levels.append(level)\n",
        "      if type(level) == int:\n",
        "        str_levels.append(str(level))\n",
        "      if type(level) == float:\n",
        "        if not pd.isnull(level):\n",
        "          str_levels.append(str(int(level)))\n",
        "        else:\n",
        "        ## check that if level_x contains NaN for a given id, all level_x+m should also be NaN for this id\n",
        "          if not all(pd.isnull(el) for el in levels[i:]):\n",
        "            if index:\n",
        "              index_str = f' The error occured at id {index}.'\n",
        "            else:\n",
        "              index_str = ''\n",
        "            raise ValueError('A non-NaN value encounteres after the first NaN value. All values after a NaN level must be NaN.' + index_str)\n",
        "          break\n",
        "    if concat_all:\n",
        "      return [''.join(str_levels)] * (len(levels) - len(str_levels)) + [''.join(str_levels[:i + 1]) for i in range(len(str_levels))][::-1]\n",
        "    return int(''.join(str_levels))\n",
        "\n",
        "\n",
        "  @staticmethod\n",
        "  def build_codes(target_df):\n",
        "    \"\"\"\n",
        "    adds combinations of codes given codes df\n",
        "\n",
        "    :param target_df: pd.DataFrame, of int, float, or digits str; of shape (num_examples, num_levels)\n",
        "                      - cannot have duplicate ids\n",
        "                      - order & names of columns: level_1, ..., level_n\n",
        "                      - level_1 cannot contain NaNs\n",
        "                      - if level_x contains NaN for a given id, all level_x+m should also be NaN for this id\n",
        "\n",
        "    :return: pd.DataFrame, of int, float, or digits str; of shape (num_examples, 2 * num_levels - 1),\n",
        "              adds concatenated codes, sorts by the longest code sequence\n",
        "    \"\"\"\n",
        "    levels = list(target_df.columns)\n",
        "    first_level_na = target_df[levels[0]].isnull()\n",
        "    if any(first_level_na): ## check that level_1 has no NaNs\n",
        "      raise ValueError(f'The first level cannot be NaN, but found NaN at id(s) {np.where(first_level_na)[0]}')\n",
        "    concat_levels = [f'concat_{i}' for i in range(len(levels), 0, -1)]\n",
        "    target_df[concat_levels] = target_df.apply(lambda row: pd.Series((concat_code(row, concat_all=True))), axis=1)\n",
        "    return target_df.sort_values(concat_levels[0])\n",
        "\n",
        "  \n",
        "  def build_ids(self):\n",
        "    \"\"\"\n",
        "    creates a dictionary of class codes to relevant data ids\n",
        "\n",
        "    for each level of concatenation creates a dict entry:\n",
        "      key - code (int)\n",
        "      value: np.array of ids in the data that have that code combination as tgt\n",
        "    \n",
        "    :return: self\n",
        "    \"\"\"\n",
        "    self.ids = {}\n",
        "    levels = [col_name for col_name in self.tgt.columns if col_name.startswith('concat_')][::-1]  # ['concat_1', 'concat_2', 'concat_3']\n",
        "    for level in levels:\n",
        "      uniques = np.unique(self.tgt[level])\n",
        "      for code in uniques:\n",
        "        self.ids[code] = self.tgt[self.tgt[level] == code].index\n",
        "    return self\n",
        "\n",
        "  \n",
        "  def build_hypers(self):\n",
        "    \"\"\"\n",
        "    apply hyper_f to relevant data on every level to obtain hyperparameters for every level\n",
        "    \"\"\"\n",
        "    for code in self.ids.keys():\n",
        "      pass\n",
        "    return self\n",
        "\n",
        "  \n",
        "  def build_models(self):\n",
        "    \"\"\"\n",
        "    init models on every level with relevant hyperparameters\n",
        "    \"\"\"\n",
        "    pass\n",
        "\n",
        "\n",
        "  def fit(self): # how we define training hyperparameters?\n",
        "    \"\"\"\n",
        "    fit models on every level with relevant data\n",
        "    \"\"\"\n",
        "    pass\n",
        "\n",
        "\n",
        "  def predict(self, X, beam_width=5, output='top n'):\n",
        "    \"\"\"\n",
        "    predict a class for each classification level using beamsearch on class probabilities\n",
        "\n",
        "    :param X: pd.DataFrame, of int and float, of shape (num_examples, num_features)\n",
        "    :param beam_width: int, beam width for beam search,\n",
        "                       optional, deafult 5\n",
        "    :param oputput: str {'top n', 'class', 'prob'}:\n",
        "                  - 'top n': return np.array of shape (num_examples, beam_width),\n",
        "                             predict top n most probable classes\n",
        "                  - 'class': return np.array of shape (num_examples, 1),\n",
        "                             predict the most probable class\n",
        "                  - 'prob': return np.array of shape (num_examples, beam_width, beam_width),\n",
        "                             predict top n most probable classes and their probabililties\n",
        "    \"\"\"\n",
        "    pass"
      ],
      "execution_count": 0,
      "outputs": []
    }
  ]
}